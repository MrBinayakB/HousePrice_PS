{
 "cells": [
  {
   "cell_type": "code",
   "execution_count": 1,
   "id": "25ffc9b0",
   "metadata": {},
   "outputs": [],
   "source": [
    "import pandas as pd\n",
    "import numpy as np\n",
    "import seaborn as sns\n",
    "import matplotlib.pyplot as plt\n",
    "from sklearn.model_selection import train_test_split\n",
    "from sklearn.svm import SVR\n",
    "sns.set(style=\"white\",color_codes=True)"
   ]
  },
  {
   "cell_type": "code",
   "execution_count": 2,
   "id": "096881c0",
   "metadata": {},
   "outputs": [
    {
     "data": {
      "text/html": [
       "<div>\n",
       "<style scoped>\n",
       "    .dataframe tbody tr th:only-of-type {\n",
       "        vertical-align: middle;\n",
       "    }\n",
       "\n",
       "    .dataframe tbody tr th {\n",
       "        vertical-align: top;\n",
       "    }\n",
       "\n",
       "    .dataframe thead th {\n",
       "        text-align: right;\n",
       "    }\n",
       "</style>\n",
       "<table border=\"1\" class=\"dataframe\">\n",
       "  <thead>\n",
       "    <tr style=\"text-align: right;\">\n",
       "      <th></th>\n",
       "      <th>Title</th>\n",
       "      <th>Address</th>\n",
       "      <th>City</th>\n",
       "      <th>Price</th>\n",
       "      <th>Bedroom</th>\n",
       "      <th>Bathroom</th>\n",
       "      <th>Floors</th>\n",
       "      <th>Parking</th>\n",
       "      <th>Face</th>\n",
       "      <th>Views</th>\n",
       "      <th>Area</th>\n",
       "      <th>Road</th>\n",
       "      <th>Road Width</th>\n",
       "      <th>Road Type</th>\n",
       "      <th>Build Area</th>\n",
       "      <th>Posted</th>\n",
       "      <th>Amenities</th>\n",
       "    </tr>\n",
       "  </thead>\n",
       "  <tbody>\n",
       "    <tr>\n",
       "      <th>0</th>\n",
       "      <td>Flat System House On Sale At Budhanikantha : H...</td>\n",
       "      <td>Budhanikantha, Budhanilkantha, Kathmandu</td>\n",
       "      <td>Kathmandu</td>\n",
       "      <td>90000000.0</td>\n",
       "      <td>6</td>\n",
       "      <td>3</td>\n",
       "      <td>2.0</td>\n",
       "      <td>10</td>\n",
       "      <td>West</td>\n",
       "      <td>17</td>\n",
       "      <td>1-0-0-0 Aana</td>\n",
       "      <td>20 Feet / Blacktopped</td>\n",
       "      <td>20 Feet</td>\n",
       "      <td>Blacktopped</td>\n",
       "      <td>18-0-0-0 Aana</td>\n",
       "      <td>11 hours ago</td>\n",
       "      <td>['Parking', 'Lawn', 'Garage', 'Frontyard', 'Fe...</td>\n",
       "    </tr>\n",
       "    <tr>\n",
       "      <th>1</th>\n",
       "      <td>21 Aana Beautiful House : House For Sale In Bu...</td>\n",
       "      <td>Pasikot, Budhanilkantha, Kathmandu</td>\n",
       "      <td>Kathmandu</td>\n",
       "      <td>80000000.0</td>\n",
       "      <td>5</td>\n",
       "      <td>3</td>\n",
       "      <td>2.0</td>\n",
       "      <td>9</td>\n",
       "      <td>East</td>\n",
       "      <td>26</td>\n",
       "      <td>0-21-0-0 Aana</td>\n",
       "      <td>20 Feet / Blacktopped</td>\n",
       "      <td>20 Feet</td>\n",
       "      <td>Blacktopped</td>\n",
       "      <td>0-14-0-0 Aana</td>\n",
       "      <td>12 hours ago</td>\n",
       "      <td>['Parking', 'Garage', 'Fencing', 'Frontyard', ...</td>\n",
       "    </tr>\n",
       "    <tr>\n",
       "      <th>2</th>\n",
       "      <td>Beautiful To Floor House : House For Sale In D...</td>\n",
       "      <td>Dhapasi, Dhapasi, Kathmandu</td>\n",
       "      <td>Kathmandu</td>\n",
       "      <td>70000000.0</td>\n",
       "      <td>5</td>\n",
       "      <td>3</td>\n",
       "      <td>2.0</td>\n",
       "      <td>12</td>\n",
       "      <td>East</td>\n",
       "      <td>154</td>\n",
       "      <td>1-1-0-0 Aana</td>\n",
       "      <td>20 Feet / Blacktopped</td>\n",
       "      <td>20 Feet</td>\n",
       "      <td>Blacktopped</td>\n",
       "      <td>10-1-0-0 Aana</td>\n",
       "      <td>2 days ago</td>\n",
       "      <td>['Parking', 'Lawn', 'Garage', 'Frontyard', 'Fe...</td>\n",
       "    </tr>\n",
       "    <tr>\n",
       "      <th>3</th>\n",
       "      <td>Modern Architecture Bungalow House : House For...</td>\n",
       "      <td>baluwatar, Baluwatar, Kathmandu</td>\n",
       "      <td>Kathmandu</td>\n",
       "      <td>130000000.0</td>\n",
       "      <td>6</td>\n",
       "      <td>4</td>\n",
       "      <td>3.0</td>\n",
       "      <td>9</td>\n",
       "      <td>West</td>\n",
       "      <td>17</td>\n",
       "      <td>0-10-1-0 Aana</td>\n",
       "      <td>20 Feet / Blacktopped</td>\n",
       "      <td>20 Feet</td>\n",
       "      <td>Blacktopped</td>\n",
       "      <td>0-7-1-0 Aana</td>\n",
       "      <td>1 day ago</td>\n",
       "      <td>['Parking', 'Lawn', 'Garage', 'Frontyard', 'Fe...</td>\n",
       "    </tr>\n",
       "    <tr>\n",
       "      <th>4</th>\n",
       "      <td>Modern Bungalow House : House For Sale In Golf...</td>\n",
       "      <td>Golfutar, Golfutar, Kathmandu</td>\n",
       "      <td>Kathmandu</td>\n",
       "      <td>100000000.0</td>\n",
       "      <td>6</td>\n",
       "      <td>3</td>\n",
       "      <td>2.0</td>\n",
       "      <td>10</td>\n",
       "      <td>East</td>\n",
       "      <td>59</td>\n",
       "      <td>0-19-2-0 Aana</td>\n",
       "      <td>20 Feet / Blacktopped</td>\n",
       "      <td>20 Feet</td>\n",
       "      <td>Blacktopped</td>\n",
       "      <td>0-14-2-0 Aana</td>\n",
       "      <td>2 days ago</td>\n",
       "      <td>['Parking', 'Lawn', 'Garage', 'Balcony', 'Back...</td>\n",
       "    </tr>\n",
       "  </tbody>\n",
       "</table>\n",
       "</div>"
      ],
      "text/plain": [
       "                                               Title  \\\n",
       "0  Flat System House On Sale At Budhanikantha : H...   \n",
       "1  21 Aana Beautiful House : House For Sale In Bu...   \n",
       "2  Beautiful To Floor House : House For Sale In D...   \n",
       "3  Modern Architecture Bungalow House : House For...   \n",
       "4  Modern Bungalow House : House For Sale In Golf...   \n",
       "\n",
       "                                    Address       City        Price  Bedroom  \\\n",
       "0  Budhanikantha, Budhanilkantha, Kathmandu  Kathmandu   90000000.0        6   \n",
       "1        Pasikot, Budhanilkantha, Kathmandu  Kathmandu   80000000.0        5   \n",
       "2               Dhapasi, Dhapasi, Kathmandu  Kathmandu   70000000.0        5   \n",
       "3           baluwatar, Baluwatar, Kathmandu  Kathmandu  130000000.0        6   \n",
       "4             Golfutar, Golfutar, Kathmandu  Kathmandu  100000000.0        6   \n",
       "\n",
       "   Bathroom  Floors  Parking  Face Views           Area  \\\n",
       "0         3     2.0       10  West    17   1-0-0-0 Aana   \n",
       "1         3     2.0        9  East    26  0-21-0-0 Aana   \n",
       "2         3     2.0       12  East   154   1-1-0-0 Aana   \n",
       "3         4     3.0        9  West    17  0-10-1-0 Aana   \n",
       "4         3     2.0       10  East    59  0-19-2-0 Aana   \n",
       "\n",
       "                    Road Road Width     Road Type     Build Area  \\\n",
       "0  20 Feet / Blacktopped   20 Feet    Blacktopped  18-0-0-0 Aana   \n",
       "1  20 Feet / Blacktopped   20 Feet    Blacktopped  0-14-0-0 Aana   \n",
       "2  20 Feet / Blacktopped   20 Feet    Blacktopped  10-1-0-0 Aana   \n",
       "3  20 Feet / Blacktopped   20 Feet    Blacktopped   0-7-1-0 Aana   \n",
       "4  20 Feet / Blacktopped   20 Feet    Blacktopped  0-14-2-0 Aana   \n",
       "\n",
       "         Posted                                          Amenities  \n",
       "0  11 hours ago  ['Parking', 'Lawn', 'Garage', 'Frontyard', 'Fe...  \n",
       "1  12 hours ago  ['Parking', 'Garage', 'Fencing', 'Frontyard', ...  \n",
       "2    2 days ago  ['Parking', 'Lawn', 'Garage', 'Frontyard', 'Fe...  \n",
       "3     1 day ago  ['Parking', 'Lawn', 'Garage', 'Frontyard', 'Fe...  \n",
       "4    2 days ago  ['Parking', 'Lawn', 'Garage', 'Balcony', 'Back...  "
      ]
     },
     "execution_count": 2,
     "metadata": {},
     "output_type": "execute_result"
    }
   ],
   "source": [
    "HouseDS=pd.read_csv(\"HousePS.csv\")\n",
    "HouseDS.head()"
   ]
  },
  {
   "cell_type": "code",
   "execution_count": 3,
   "id": "54fe82a2",
   "metadata": {},
   "outputs": [
    {
     "name": "stdout",
     "output_type": "stream",
     "text": [
      "<class 'pandas.core.frame.DataFrame'>\n",
      "RangeIndex: 2211 entries, 0 to 2210\n",
      "Data columns (total 17 columns):\n",
      " #   Column      Non-Null Count  Dtype  \n",
      "---  ------      --------------  -----  \n",
      " 0   Title       2211 non-null   object \n",
      " 1   Address     2211 non-null   object \n",
      " 2   City        2211 non-null   object \n",
      " 3   Price       2211 non-null   float64\n",
      " 4   Bedroom     2211 non-null   int64  \n",
      " 5   Bathroom    2211 non-null   int64  \n",
      " 6   Floors      1039 non-null   float64\n",
      " 7   Parking     2211 non-null   int64  \n",
      " 8   Face        2211 non-null   object \n",
      " 9   Views       2211 non-null   object \n",
      " 10  Area        2211 non-null   object \n",
      " 11  Road        2211 non-null   object \n",
      " 12  Road Width  2211 non-null   object \n",
      " 13  Road Type   1426 non-null   object \n",
      " 14  Build Area  2211 non-null   object \n",
      " 15  Posted      2211 non-null   object \n",
      " 16  Amenities   2211 non-null   object \n",
      "dtypes: float64(2), int64(3), object(12)\n",
      "memory usage: 293.8+ KB\n"
     ]
    }
   ],
   "source": [
    "HouseDS.info()"
   ]
  },
  {
   "cell_type": "code",
   "execution_count": 4,
   "id": "e40a342f",
   "metadata": {},
   "outputs": [
    {
     "data": {
      "text/html": [
       "<div>\n",
       "<style scoped>\n",
       "    .dataframe tbody tr th:only-of-type {\n",
       "        vertical-align: middle;\n",
       "    }\n",
       "\n",
       "    .dataframe tbody tr th {\n",
       "        vertical-align: top;\n",
       "    }\n",
       "\n",
       "    .dataframe thead th {\n",
       "        text-align: right;\n",
       "    }\n",
       "</style>\n",
       "<table border=\"1\" class=\"dataframe\">\n",
       "  <thead>\n",
       "    <tr style=\"text-align: right;\">\n",
       "      <th></th>\n",
       "      <th>Price</th>\n",
       "      <th>Bedroom</th>\n",
       "      <th>Bathroom</th>\n",
       "      <th>Floors</th>\n",
       "      <th>Parking</th>\n",
       "    </tr>\n",
       "  </thead>\n",
       "  <tbody>\n",
       "    <tr>\n",
       "      <th>count</th>\n",
       "      <td>2.211000e+03</td>\n",
       "      <td>2211.000000</td>\n",
       "      <td>2211.000000</td>\n",
       "      <td>1039.000000</td>\n",
       "      <td>2211.000000</td>\n",
       "    </tr>\n",
       "    <tr>\n",
       "      <th>mean</th>\n",
       "      <td>4.065559e+11</td>\n",
       "      <td>2.731796</td>\n",
       "      <td>1.871099</td>\n",
       "      <td>2.824206</td>\n",
       "      <td>1.007689</td>\n",
       "    </tr>\n",
       "    <tr>\n",
       "      <th>std</th>\n",
       "      <td>7.566414e+12</td>\n",
       "      <td>4.174364</td>\n",
       "      <td>2.635836</td>\n",
       "      <td>1.265411</td>\n",
       "      <td>2.094905</td>\n",
       "    </tr>\n",
       "    <tr>\n",
       "      <th>min</th>\n",
       "      <td>1.500000e+01</td>\n",
       "      <td>0.000000</td>\n",
       "      <td>0.000000</td>\n",
       "      <td>0.000000</td>\n",
       "      <td>0.000000</td>\n",
       "    </tr>\n",
       "    <tr>\n",
       "      <th>25%</th>\n",
       "      <td>1.300000e+06</td>\n",
       "      <td>0.000000</td>\n",
       "      <td>0.000000</td>\n",
       "      <td>2.000000</td>\n",
       "      <td>0.000000</td>\n",
       "    </tr>\n",
       "    <tr>\n",
       "      <th>50%</th>\n",
       "      <td>8.000000e+06</td>\n",
       "      <td>0.000000</td>\n",
       "      <td>0.000000</td>\n",
       "      <td>3.000000</td>\n",
       "      <td>0.000000</td>\n",
       "    </tr>\n",
       "    <tr>\n",
       "      <th>75%</th>\n",
       "      <td>2.650000e+07</td>\n",
       "      <td>5.000000</td>\n",
       "      <td>4.000000</td>\n",
       "      <td>3.000000</td>\n",
       "      <td>1.000000</td>\n",
       "    </tr>\n",
       "    <tr>\n",
       "      <th>max</th>\n",
       "      <td>2.160000e+14</td>\n",
       "      <td>95.000000</td>\n",
       "      <td>40.000000</td>\n",
       "      <td>13.000000</td>\n",
       "      <td>31.000000</td>\n",
       "    </tr>\n",
       "  </tbody>\n",
       "</table>\n",
       "</div>"
      ],
      "text/plain": [
       "              Price      Bedroom     Bathroom       Floors      Parking\n",
       "count  2.211000e+03  2211.000000  2211.000000  1039.000000  2211.000000\n",
       "mean   4.065559e+11     2.731796     1.871099     2.824206     1.007689\n",
       "std    7.566414e+12     4.174364     2.635836     1.265411     2.094905\n",
       "min    1.500000e+01     0.000000     0.000000     0.000000     0.000000\n",
       "25%    1.300000e+06     0.000000     0.000000     2.000000     0.000000\n",
       "50%    8.000000e+06     0.000000     0.000000     3.000000     0.000000\n",
       "75%    2.650000e+07     5.000000     4.000000     3.000000     1.000000\n",
       "max    2.160000e+14    95.000000    40.000000    13.000000    31.000000"
      ]
     },
     "execution_count": 4,
     "metadata": {},
     "output_type": "execute_result"
    }
   ],
   "source": [
    "HouseDS.describe()"
   ]
  },
  {
   "cell_type": "code",
   "execution_count": 5,
   "id": "03a48e0c",
   "metadata": {},
   "outputs": [
    {
     "data": {
      "text/plain": [
       "Price\n",
       "3500000.0     35\n",
       "25000000.0    33\n",
       "2500000.0     32\n",
       "15000000.0    30\n",
       "35000000.0    29\n",
       "              ..\n",
       "24000.0        1\n",
       "35200000.0     1\n",
       "96000000.0     1\n",
       "12000.0        1\n",
       "59000000.0     1\n",
       "Name: count, Length: 407, dtype: int64"
      ]
     },
     "execution_count": 5,
     "metadata": {},
     "output_type": "execute_result"
    }
   ],
   "source": [
    "HouseDS[\"Price\"].value_counts()"
   ]
  },
  {
   "cell_type": "code",
   "execution_count": 6,
   "id": "d7c07b6a",
   "metadata": {},
   "outputs": [],
   "source": [
    "#splitting Data set into Training and testing sets\n",
    "X=HouseDS.drop(['Price','Title','Address','City','Face'],axis=1)\n",
    "y=HouseDS['Price']\n",
    "X_train,X_test,y_train,y_test=train_test_split(X,y,test_size=0.2,random_state=1)"
   ]
  },
  {
   "cell_type": "code",
   "execution_count": 7,
   "id": "2ac48241",
   "metadata": {},
   "outputs": [
    {
     "name": "stdout",
     "output_type": "stream",
     "text": [
      "(1768, 12) (443, 12) (1768,) (443,)\n"
     ]
    }
   ],
   "source": [
    "print(X_train.shape,X_test.shape,y_train.shape,y_test.shape)"
   ]
  },
  {
   "cell_type": "code",
   "execution_count": 8,
   "id": "57c19f3e",
   "metadata": {},
   "outputs": [],
   "source": [
    "#feature scaling(to normalize feature variables)\n",
    "from sklearn.preprocessing import StandardScaler\n",
    "scaler = StandardScaler()"
   ]
  },
  {
   "cell_type": "code",
   "execution_count": 9,
   "id": "07dbc90f",
   "metadata": {
    "scrolled": false
   },
   "outputs": [],
   "source": [
    "#X_train_scale=scaler.fit_transform(X_train)\n",
    "#X_test_scale=scaler.transform(X_test)\n",
    "#Scaling string ko laagi navayera pending vayo"
   ]
  },
  {
   "cell_type": "code",
   "execution_count": 10,
   "id": "82e7ebb1",
   "metadata": {},
   "outputs": [],
   "source": [
    "svm_model=SVR(kernel='linear')"
   ]
  },
  {
   "cell_type": "code",
   "execution_count": 11,
   "id": "913aca31",
   "metadata": {},
   "outputs": [
    {
     "ename": "NameError",
     "evalue": "name 'X_train_scale' is not defined",
     "output_type": "error",
     "traceback": [
      "\u001b[1;31m---------------------------------------------------------------------------\u001b[0m",
      "\u001b[1;31mNameError\u001b[0m                                 Traceback (most recent call last)",
      "Cell \u001b[1;32mIn[11], line 2\u001b[0m\n\u001b[0;32m      1\u001b[0m \u001b[38;5;66;03m#Training the model\u001b[39;00m\n\u001b[1;32m----> 2\u001b[0m svm_model\u001b[38;5;241m.\u001b[39mfit(\u001b[43mX_train_scale\u001b[49m,y_train)\n",
      "\u001b[1;31mNameError\u001b[0m: name 'X_train_scale' is not defined"
     ]
    }
   ],
   "source": [
    "#Training the model\n",
    "svm_model.fit(X_train_scale,y_train)"
   ]
  },
  {
   "cell_type": "code",
   "execution_count": null,
   "id": "6266075d",
   "metadata": {},
   "outputs": [],
   "source": [
    "#Making predictions on test set\n",
    "pred=svm_model.predict(X_test_scale)"
   ]
  },
  {
   "cell_type": "code",
   "execution_count": null,
   "id": "4d143456",
   "metadata": {},
   "outputs": [],
   "source": [
    "#Evaluating the model\n",
    "from sklearn.metrics import mean_squared_error\n",
    "mse=mean_squared_error(y_test,pred)\n",
    "mse"
   ]
  }
 ],
 "metadata": {
  "kernelspec": {
   "display_name": "Python 3 (ipykernel)",
   "language": "python",
   "name": "python3"
  },
  "language_info": {
   "codemirror_mode": {
    "name": "ipython",
    "version": 3
   },
   "file_extension": ".py",
   "mimetype": "text/x-python",
   "name": "python",
   "nbconvert_exporter": "python",
   "pygments_lexer": "ipython3",
   "version": "3.10.11"
  }
 },
 "nbformat": 4,
 "nbformat_minor": 5
}
