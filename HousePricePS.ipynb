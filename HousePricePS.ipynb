{
 "cells": [
  {
   "cell_type": "code",
   "execution_count": 1,
   "id": "25ffc9b0",
   "metadata": {},
   "outputs": [],
   "source": [
    "import pandas as pd\n",
    "import numpy as np\n",
    "import seaborn as sns\n",
    "import matplotlib.pyplot as plt\n",
    "from sklearn.model_selection import train_test_split\n",
    "from sklearn.preprocessing import LabelEncoder, StandardScaler\n",
    "from sklearn.svm import SVR\n",
    "from sklearn.metrics import accuracy_score\n",
    "sns.set(style=\"white\",color_codes=True)"
   ]
  },
  {
   "cell_type": "code",
   "execution_count": 2,
   "id": "096881c0",
   "metadata": {},
   "outputs": [
    {
     "data": {
      "text/html": [
       "<div>\n",
       "<style scoped>\n",
       "    .dataframe tbody tr th:only-of-type {\n",
       "        vertical-align: middle;\n",
       "    }\n",
       "\n",
       "    .dataframe tbody tr th {\n",
       "        vertical-align: top;\n",
       "    }\n",
       "\n",
       "    .dataframe thead th {\n",
       "        text-align: right;\n",
       "    }\n",
       "</style>\n",
       "<table border=\"1\" class=\"dataframe\">\n",
       "  <thead>\n",
       "    <tr style=\"text-align: right;\">\n",
       "      <th></th>\n",
       "      <th>Title</th>\n",
       "      <th>Address</th>\n",
       "      <th>City</th>\n",
       "      <th>Price</th>\n",
       "      <th>Bedroom</th>\n",
       "      <th>Bathroom</th>\n",
       "      <th>Floors</th>\n",
       "      <th>Parking</th>\n",
       "      <th>Views</th>\n",
       "      <th>Area</th>\n",
       "      <th>Road</th>\n",
       "      <th>Road Width</th>\n",
       "      <th>Road Type</th>\n",
       "      <th>Amenities</th>\n",
       "    </tr>\n",
       "  </thead>\n",
       "  <tbody>\n",
       "    <tr>\n",
       "      <th>0</th>\n",
       "      <td>2 Room Available : Flat For Sale In Shrijana C...</td>\n",
       "      <td>Pokhara 8, Pratibha marga, Shrijana Chowk, Pok...</td>\n",
       "      <td>Pokhara</td>\n",
       "      <td>11000.0</td>\n",
       "      <td>1</td>\n",
       "      <td>0</td>\n",
       "      <td>3.0</td>\n",
       "      <td>0</td>\n",
       "      <td>206</td>\n",
       "      <td>0-7-0-0 Ropani</td>\n",
       "      <td>12 Feet / Blacktopped</td>\n",
       "      <td>12 Feet</td>\n",
       "      <td>Blacktopped</td>\n",
       "      <td>['Balcony', 'Drainage']</td>\n",
       "    </tr>\n",
       "    <tr>\n",
       "      <th>1</th>\n",
       "      <td>Space On Rent For Office And Restaurant ... Ba...</td>\n",
       "      <td>naya baneshwor, Baneshwor, Kathmandu</td>\n",
       "      <td>Kathmandu</td>\n",
       "      <td>495000.0</td>\n",
       "      <td>0</td>\n",
       "      <td>0</td>\n",
       "      <td>2.0</td>\n",
       "      <td>0</td>\n",
       "      <td>182</td>\n",
       "      <td>1100 Sq. Feet</td>\n",
       "      <td>0 Feet</td>\n",
       "      <td>0 Feet</td>\n",
       "      <td>NaN</td>\n",
       "      <td>['Lift', 'Parking', 'CCTV']</td>\n",
       "    </tr>\n",
       "    <tr>\n",
       "      <th>2</th>\n",
       "      <td>House For Rent In Gatthaghar, Bhaktapur</td>\n",
       "      <td>Near Nagrik Hospital Gatthaghar, Gatthaghar, B...</td>\n",
       "      <td>Bhaktapur</td>\n",
       "      <td>60000.0</td>\n",
       "      <td>5</td>\n",
       "      <td>0</td>\n",
       "      <td>0.0</td>\n",
       "      <td>6</td>\n",
       "      <td>180</td>\n",
       "      <td>500 Sq. Feet</td>\n",
       "      <td>20 Feet / Blacktopped</td>\n",
       "      <td>20 Feet</td>\n",
       "      <td>Blacktopped</td>\n",
       "      <td>['Balcony', 'Modular Kitchen', 'Wifi', 'Water ...</td>\n",
       "    </tr>\n",
       "    <tr>\n",
       "      <th>3</th>\n",
       "      <td>Office Space For Rent In Gatthaghar, Bhaktapur</td>\n",
       "      <td>Gatthaghar Nagrik Hospital, Gatthaghar, Bhaktapur</td>\n",
       "      <td>Bhaktapur</td>\n",
       "      <td>11000.0</td>\n",
       "      <td>0</td>\n",
       "      <td>0</td>\n",
       "      <td>0.0</td>\n",
       "      <td>5</td>\n",
       "      <td>176</td>\n",
       "      <td>200 Sq. Feet</td>\n",
       "      <td>20 Feet / Soil Stabilized</td>\n",
       "      <td>20 Feet</td>\n",
       "      <td>Soil Stabilized</td>\n",
       "      <td>['Parking', 'Internet', 'Wifi', 'Balcony', 'Dr...</td>\n",
       "    </tr>\n",
       "    <tr>\n",
       "      <th>4</th>\n",
       "      <td>4 Ropani Land For Sale At Budhanilkantha : Lan...</td>\n",
       "      <td>Budhanilkantha, Budhanilkantha, Kathmandu</td>\n",
       "      <td>Kathmandu</td>\n",
       "      <td>3500000.0</td>\n",
       "      <td>0</td>\n",
       "      <td>0</td>\n",
       "      <td>2.0</td>\n",
       "      <td>0</td>\n",
       "      <td>325</td>\n",
       "      <td>0-64-0-0 Aana</td>\n",
       "      <td>20 Feet / Blacktopped</td>\n",
       "      <td>20 Feet</td>\n",
       "      <td>Blacktopped</td>\n",
       "      <td>[]</td>\n",
       "    </tr>\n",
       "  </tbody>\n",
       "</table>\n",
       "</div>"
      ],
      "text/plain": [
       "                                               Title  \\\n",
       "0  2 Room Available : Flat For Sale In Shrijana C...   \n",
       "1  Space On Rent For Office And Restaurant ... Ba...   \n",
       "2            House For Rent In Gatthaghar, Bhaktapur   \n",
       "3     Office Space For Rent In Gatthaghar, Bhaktapur   \n",
       "4  4 Ropani Land For Sale At Budhanilkantha : Lan...   \n",
       "\n",
       "                                             Address       City      Price  \\\n",
       "0  Pokhara 8, Pratibha marga, Shrijana Chowk, Pok...    Pokhara    11000.0   \n",
       "1               naya baneshwor, Baneshwor, Kathmandu  Kathmandu   495000.0   \n",
       "2  Near Nagrik Hospital Gatthaghar, Gatthaghar, B...  Bhaktapur    60000.0   \n",
       "3  Gatthaghar Nagrik Hospital, Gatthaghar, Bhaktapur  Bhaktapur    11000.0   \n",
       "4          Budhanilkantha, Budhanilkantha, Kathmandu  Kathmandu  3500000.0   \n",
       "\n",
       "   Bedroom  Bathroom  Floors  Parking  Views            Area  \\\n",
       "0        1         0     3.0        0    206  0-7-0-0 Ropani   \n",
       "1        0         0     2.0        0    182   1100 Sq. Feet   \n",
       "2        5         0     0.0        6    180    500 Sq. Feet   \n",
       "3        0         0     0.0        5    176    200 Sq. Feet   \n",
       "4        0         0     2.0        0    325   0-64-0-0 Aana   \n",
       "\n",
       "                        Road Road Width         Road Type  \\\n",
       "0      12 Feet / Blacktopped   12 Feet        Blacktopped   \n",
       "1                     0 Feet     0 Feet               NaN   \n",
       "2      20 Feet / Blacktopped   20 Feet        Blacktopped   \n",
       "3  20 Feet / Soil Stabilized   20 Feet    Soil Stabilized   \n",
       "4      20 Feet / Blacktopped   20 Feet        Blacktopped   \n",
       "\n",
       "                                           Amenities  \n",
       "0                            ['Balcony', 'Drainage']  \n",
       "1                        ['Lift', 'Parking', 'CCTV']  \n",
       "2  ['Balcony', 'Modular Kitchen', 'Wifi', 'Water ...  \n",
       "3  ['Parking', 'Internet', 'Wifi', 'Balcony', 'Dr...  \n",
       "4                                                 []  "
      ]
     },
     "execution_count": 2,
     "metadata": {},
     "output_type": "execute_result"
    }
   ],
   "source": [
    "HouseDS=pd.read_csv(\"HousePS.csv\")\n",
    "HouseDS.head()"
   ]
  },
  {
   "cell_type": "code",
   "execution_count": 3,
   "id": "54fe82a2",
   "metadata": {},
   "outputs": [
    {
     "name": "stdout",
     "output_type": "stream",
     "text": [
      "<class 'pandas.core.frame.DataFrame'>\n",
      "RangeIndex: 2211 entries, 0 to 2210\n",
      "Data columns (total 14 columns):\n",
      " #   Column      Non-Null Count  Dtype  \n",
      "---  ------      --------------  -----  \n",
      " 0   Title       2211 non-null   object \n",
      " 1   Address     2211 non-null   object \n",
      " 2   City        2211 non-null   object \n",
      " 3   Price       2211 non-null   float64\n",
      " 4   Bedroom     2211 non-null   int64  \n",
      " 5   Bathroom    2211 non-null   int64  \n",
      " 6   Floors      2211 non-null   float64\n",
      " 7   Parking     2211 non-null   int64  \n",
      " 8   Views       2211 non-null   int64  \n",
      " 9   Area        2211 non-null   object \n",
      " 10  Road        2211 non-null   object \n",
      " 11  Road Width  2211 non-null   object \n",
      " 12  Road Type   1426 non-null   object \n",
      " 13  Amenities   2211 non-null   object \n",
      "dtypes: float64(2), int64(4), object(8)\n",
      "memory usage: 242.0+ KB\n"
     ]
    }
   ],
   "source": [
    "HouseDS.info()"
   ]
  },
  {
   "cell_type": "code",
   "execution_count": 4,
   "id": "5bb08026",
   "metadata": {},
   "outputs": [],
   "source": [
    "def parse_road_width(x):\n",
    "    qty,measure=x.split(' ')[0],x.split(' ')[1]\n",
    "    if measure =='Feet':\n",
    "        return float(qty)*0.3048\n",
    "    return float(qty)\n",
    "HouseDS['road_width_meters']=HouseDS['Road Width'].astype('str').apply(parse_road_width)\n",
    "del HouseDS['Road Width']\n",
    "del HouseDS['Views']\n",
    "del HouseDS['Title']"
   ]
  },
  {
   "cell_type": "code",
   "execution_count": 5,
   "id": "75632dd9",
   "metadata": {
    "scrolled": true
   },
   "outputs": [
    {
     "data": {
      "text/html": [
       "<div>\n",
       "<style scoped>\n",
       "    .dataframe tbody tr th:only-of-type {\n",
       "        vertical-align: middle;\n",
       "    }\n",
       "\n",
       "    .dataframe tbody tr th {\n",
       "        vertical-align: top;\n",
       "    }\n",
       "\n",
       "    .dataframe thead th {\n",
       "        text-align: right;\n",
       "    }\n",
       "</style>\n",
       "<table border=\"1\" class=\"dataframe\">\n",
       "  <thead>\n",
       "    <tr style=\"text-align: right;\">\n",
       "      <th></th>\n",
       "      <th>Address</th>\n",
       "      <th>City</th>\n",
       "      <th>Price</th>\n",
       "      <th>Bedroom</th>\n",
       "      <th>Bathroom</th>\n",
       "      <th>Floors</th>\n",
       "      <th>Parking</th>\n",
       "      <th>Area</th>\n",
       "      <th>Road</th>\n",
       "      <th>Road Type</th>\n",
       "      <th>Amenities</th>\n",
       "      <th>road_width_meters</th>\n",
       "    </tr>\n",
       "  </thead>\n",
       "  <tbody>\n",
       "    <tr>\n",
       "      <th>0</th>\n",
       "      <td>1137</td>\n",
       "      <td>27</td>\n",
       "      <td>11000.0</td>\n",
       "      <td>1</td>\n",
       "      <td>0</td>\n",
       "      <td>3.0</td>\n",
       "      <td>0</td>\n",
       "      <td>0-7-0-0 Ropani</td>\n",
       "      <td>12 Feet / Blacktopped</td>\n",
       "      <td>1</td>\n",
       "      <td>['Balcony', 'Drainage']</td>\n",
       "      <td>3.6576</td>\n",
       "    </tr>\n",
       "    <tr>\n",
       "      <th>1</th>\n",
       "      <td>1536</td>\n",
       "      <td>17</td>\n",
       "      <td>495000.0</td>\n",
       "      <td>0</td>\n",
       "      <td>0</td>\n",
       "      <td>2.0</td>\n",
       "      <td>0</td>\n",
       "      <td>1100 Sq. Feet</td>\n",
       "      <td>0 Feet</td>\n",
       "      <td>6</td>\n",
       "      <td>['Lift', 'Parking', 'CCTV']</td>\n",
       "      <td>0.0000</td>\n",
       "    </tr>\n",
       "    <tr>\n",
       "      <th>2</th>\n",
       "      <td>886</td>\n",
       "      <td>3</td>\n",
       "      <td>60000.0</td>\n",
       "      <td>5</td>\n",
       "      <td>0</td>\n",
       "      <td>0.0</td>\n",
       "      <td>6</td>\n",
       "      <td>500 Sq. Feet</td>\n",
       "      <td>20 Feet / Blacktopped</td>\n",
       "      <td>1</td>\n",
       "      <td>['Balcony', 'Modular Kitchen', 'Wifi', 'Water ...</td>\n",
       "      <td>6.0960</td>\n",
       "    </tr>\n",
       "    <tr>\n",
       "      <th>3</th>\n",
       "      <td>435</td>\n",
       "      <td>3</td>\n",
       "      <td>11000.0</td>\n",
       "      <td>0</td>\n",
       "      <td>0</td>\n",
       "      <td>0.0</td>\n",
       "      <td>5</td>\n",
       "      <td>200 Sq. Feet</td>\n",
       "      <td>20 Feet / Soil Stabilized</td>\n",
       "      <td>5</td>\n",
       "      <td>['Parking', 'Internet', 'Wifi', 'Balcony', 'Dr...</td>\n",
       "      <td>6.0960</td>\n",
       "    </tr>\n",
       "    <tr>\n",
       "      <th>4</th>\n",
       "      <td>219</td>\n",
       "      <td>17</td>\n",
       "      <td>3500000.0</td>\n",
       "      <td>0</td>\n",
       "      <td>0</td>\n",
       "      <td>2.0</td>\n",
       "      <td>0</td>\n",
       "      <td>0-64-0-0 Aana</td>\n",
       "      <td>20 Feet / Blacktopped</td>\n",
       "      <td>1</td>\n",
       "      <td>[]</td>\n",
       "      <td>6.0960</td>\n",
       "    </tr>\n",
       "  </tbody>\n",
       "</table>\n",
       "</div>"
      ],
      "text/plain": [
       "   Address  City      Price  Bedroom  Bathroom  Floors  Parking  \\\n",
       "0     1137    27    11000.0        1         0     3.0        0   \n",
       "1     1536    17   495000.0        0         0     2.0        0   \n",
       "2      886     3    60000.0        5         0     0.0        6   \n",
       "3      435     3    11000.0        0         0     0.0        5   \n",
       "4      219    17  3500000.0        0         0     2.0        0   \n",
       "\n",
       "             Area                       Road  Road Type  \\\n",
       "0  0-7-0-0 Ropani      12 Feet / Blacktopped          1   \n",
       "1   1100 Sq. Feet                     0 Feet          6   \n",
       "2    500 Sq. Feet      20 Feet / Blacktopped          1   \n",
       "3    200 Sq. Feet  20 Feet / Soil Stabilized          5   \n",
       "4   0-64-0-0 Aana      20 Feet / Blacktopped          1   \n",
       "\n",
       "                                           Amenities  road_width_meters  \n",
       "0                            ['Balcony', 'Drainage']             3.6576  \n",
       "1                        ['Lift', 'Parking', 'CCTV']             0.0000  \n",
       "2  ['Balcony', 'Modular Kitchen', 'Wifi', 'Water ...             6.0960  \n",
       "3  ['Parking', 'Internet', 'Wifi', 'Balcony', 'Dr...             6.0960  \n",
       "4                                                 []             6.0960  "
      ]
     },
     "execution_count": 5,
     "metadata": {},
     "output_type": "execute_result"
    }
   ],
   "source": [
    "#LabelEncoding to convert String value to Numeric value\n",
    "le = LabelEncoder()\n",
    "HouseDS['City'] = le.fit_transform(HouseDS['City'])\n",
    "HouseDS['Address'] = le.fit_transform(HouseDS['Address'])\n",
    "HouseDS['Road Type'] = le.fit_transform(HouseDS['Road Type'])\n",
    "HouseDS.head()"
   ]
  },
  {
   "cell_type": "code",
   "execution_count": 6,
   "id": "0dd40cd6",
   "metadata": {},
   "outputs": [],
   "source": [
    "# Define the list of amenities\n",
    "amenities_list =['Parking','Wifi','Drainage','Water Supply','Internet', 'CCTV', 'Electricity Backup', 'Garden','Balcony']"
   ]
  },
  {
   "cell_type": "code",
   "execution_count": 7,
   "id": "246c3306",
   "metadata": {},
   "outputs": [],
   "source": [
    "# Create binary columns for each amenity\n",
    "for amenity in amenities_list:\n",
    "    HouseDS[amenity] = HouseDS['Amenities'].apply(lambda x: 1 if amenity in x else 0)"
   ]
  },
  {
   "cell_type": "code",
   "execution_count": 8,
   "id": "c59e0dad",
   "metadata": {},
   "outputs": [],
   "source": [
    "#Sorting value of price in Descending order,Higher Price appears first \n",
    "HouseDS=HouseDS.sort_values(by=['Price'],ascending=False)"
   ]
  },
  {
   "cell_type": "code",
   "execution_count": 9,
   "id": "21bbba62",
   "metadata": {},
   "outputs": [
    {
     "data": {
      "text/plain": [
       "<matplotlib.collections.PathCollection at 0x14a77047eb0>"
      ]
     },
     "execution_count": 9,
     "metadata": {},
     "output_type": "execute_result"
    },
    {
     "data": {
      "image/png": "[encoded data removed]",
      "text/plain": [
       "<Figure size 640x480 with 1 Axes>"
      ]
     },
     "metadata": {},
     "output_type": "display_data"
    }
   ],
   "source": [
    "#Scatter plot with excluding top 20% price\n",
    "exclude_top=int(0.8*len(HouseDS.Price))\n",
    "plt.scatter(np.arange(0,len(HouseDS.Price[exclude_top:])),HouseDS.Price[exclude_top:])"
   ]
  },
  {
   "cell_type": "code",
   "execution_count": 10,
   "id": "d7c07b6a",
   "metadata": {},
   "outputs": [],
   "source": [
    "#splitting Data set into Training and testing sets\n",
    "X=HouseDS.drop(['Price','Area','Road','Amenities'],axis=1)\n",
    "y=HouseDS['Price']\n",
    "X_train,X_test,y_train,y_test=train_test_split(X,y,test_size=0.2,random_state=1)"
   ]
  },
  {
   "cell_type": "code",
   "execution_count": 11,
   "id": "4b3451d0",
   "metadata": {},
   "outputs": [
    {
     "data": {
      "text/plain": [
       "array([[<Axes: title={'center': 'Address'}>,\n",
       "        <Axes: title={'center': 'City'}>,\n",
       "        <Axes: title={'center': 'Bedroom'}>,\n",
       "        <Axes: title={'center': 'Bathroom'}>],\n",
       "       [<Axes: title={'center': 'Floors'}>,\n",
       "        <Axes: title={'center': 'Parking'}>,\n",
       "        <Axes: title={'center': 'Road Type'}>,\n",
       "        <Axes: title={'center': 'road_width_meters'}>],\n",
       "       [<Axes: title={'center': 'Wifi'}>,\n",
       "        <Axes: title={'center': 'Drainage'}>,\n",
       "        <Axes: title={'center': 'Water Supply'}>,\n",
       "        <Axes: title={'center': 'Internet'}>],\n",
       "       [<Axes: title={'center': 'CCTV'}>,\n",
       "        <Axes: title={'center': 'Electricity Backup'}>,\n",
       "        <Axes: title={'center': 'Garden'}>,\n",
       "        <Axes: title={'center': 'Balcony'}>],\n",
       "       [<Axes: title={'center': 'Price'}>, <Axes: >, <Axes: >, <Axes: >]],\n",
       "      dtype=object)"
      ]
     },
     "execution_count": 11,
     "metadata": {},
     "output_type": "execute_result"
    },
    {
     "data": {
      "image/png": "[encoded data removed]",
      "text/plain": [
       "<Figure size 1500x800 with 20 Axes>"
      ]
     },
     "metadata": {},
     "output_type": "display_data"
    }
   ],
   "source": [
    "train_data=X_train.join(y_train)\n",
    "train_data.hist(figsize=(15,8))"
   ]
  },
  {
   "cell_type": "code",
   "execution_count": 32,
   "id": "385b6775",
   "metadata": {},
   "outputs": [
    {
     "data": {
      "text/plain": [
       "'plt.figure(figsize=(15,8))\\nsns.heatmap(train_data.corr(),annot=True,cmap=\"YlGrBu\")\\ntrain_data.corr()'"
      ]
     },
     "execution_count": 32,
     "metadata": {},
     "output_type": "execute_result"
    }
   ],
   "source": [
    "'''plt.figure(figsize=(15,8))\n",
    "sns.heatmap(train_data.corr(),annot=True,cmap=\"YlGrBu\")\n",
    "train_data.corr()'''"
   ]
  },
  {
   "cell_type": "code",
   "execution_count": 13,
   "id": "2ac48241",
   "metadata": {},
   "outputs": [
    {
     "name": "stdout",
     "output_type": "stream",
     "text": [
      "(1768, 16) (443, 16) (1768,) (443,)\n"
     ]
    }
   ],
   "source": [
    "print(X_train.shape,X_test.shape,y_train.shape,y_test.shape)"
   ]
  },
  {
   "cell_type": "code",
   "execution_count": 14,
   "id": "07dbc90f",
   "metadata": {},
   "outputs": [],
   "source": [
    "#feature scaling(to normalize feature variables)\n",
    "#np.random.seed(42)with_mean=False\n",
    "scaler = StandardScaler()\n",
    "#X_train,X_test,y_train,y_test=train_test_split(transformed_X,y,test_size=0.2,random_state=1)\n",
    "X_train_scale=scaler.fit_transform(X_train)\n",
    "X_test_scale=scaler.transform(X_test)"
   ]
  },
  {
   "cell_type": "code",
   "execution_count": 15,
   "id": "82e7ebb1",
   "metadata": {},
   "outputs": [],
   "source": [
    "svm_model=SVR(kernel='linear')"
   ]
  },
  {
   "cell_type": "code",
   "execution_count": 16,
   "id": "913aca31",
   "metadata": {},
   "outputs": [
    {
     "data": {
      "text/html": [
       "<style>#sk-container-id-1 {color: black;background-color: white;}#sk-container-id-1 pre{padding: 0;}#sk-container-id-1 div.sk-toggleable {background-color: white;}#sk-container-id-1 label.sk-toggleable__label {cursor: pointer;display: block;width: 100%;margin-bottom: 0;padding: 0.3em;box-sizing: border-box;text-align: center;}#sk-container-id-1 label.sk-toggleable__label-arrow:before {content: \"▸\";float: left;margin-right: 0.25em;color: #696969;}#sk-container-id-1 label.sk-toggleable__label-arrow:hover:before {color: black;}#sk-container-id-1 div.sk-estimator:hover label.sk-toggleable__label-arrow:before {color: black;}#sk-container-id-1 div.sk-toggleable__content {max-height: 0;max-width: 0;overflow: hidden;text-align: left;background-color: #f0f8ff;}#sk-container-id-1 div.sk-toggleable__content pre {margin: 0.2em;color: black;border-radius: 0.25em;background-color: #f0f8ff;}#sk-container-id-1 input.sk-toggleable__control:checked~div.sk-toggleable__content {max-height: 200px;max-width: 100%;overflow: auto;}#sk-container-id-1 input.sk-toggleable__control:checked~label.sk-toggleable__label-arrow:before {content: \"▾\";}#sk-container-id-1 div.sk-estimator input.sk-toggleable__control:checked~label.sk-toggleable__label {background-color: #d4ebff;}#sk-container-id-1 div.sk-label input.sk-toggleable__control:checked~label.sk-toggleable__label {background-color: #d4ebff;}#sk-container-id-1 input.sk-hidden--visually {border: 0;clip: rect(1px 1px 1px 1px);clip: rect(1px, 1px, 1px, 1px);height: 1px;margin: -1px;overflow: hidden;padding: 0;position: absolute;width: 1px;}#sk-container-id-1 div.sk-estimator {font-family: monospace;background-color: #f0f8ff;border: 1px dotted black;border-radius: 0.25em;box-sizing: border-box;margin-bottom: 0.5em;}#sk-container-id-1 div.sk-estimator:hover {background-color: #d4ebff;}#sk-container-id-1 div.sk-parallel-item::after {content: \"\";width: 100%;border-bottom: 1px solid gray;flex-grow: 1;}#sk-container-id-1 div.sk-label:hover label.sk-toggleable__label {background-color: #d4ebff;}#sk-container-id-1 div.sk-serial::before {content: \"\";position: absolute;border-left: 1px solid gray;box-sizing: border-box;top: 0;bottom: 0;left: 50%;z-index: 0;}#sk-container-id-1 div.sk-serial {display: flex;flex-direction: column;align-items: center;background-color: white;padding-right: 0.2em;padding-left: 0.2em;position: relative;}#sk-container-id-1 div.sk-item {position: relative;z-index: 1;}#sk-container-id-1 div.sk-parallel {display: flex;align-items: stretch;justify-content: center;background-color: white;position: relative;}#sk-container-id-1 div.sk-item::before, #sk-container-id-1 div.sk-parallel-item::before {content: \"\";position: absolute;border-left: 1px solid gray;box-sizing: border-box;top: 0;bottom: 0;left: 50%;z-index: -1;}#sk-container-id-1 div.sk-parallel-item {display: flex;flex-direction: column;z-index: 1;position: relative;background-color: white;}#sk-container-id-1 div.sk-parallel-item:first-child::after {align-self: flex-end;width: 50%;}#sk-container-id-1 div.sk-parallel-item:last-child::after {align-self: flex-start;width: 50%;}#sk-container-id-1 div.sk-parallel-item:only-child::after {width: 0;}#sk-container-id-1 div.sk-dashed-wrapped {border: 1px dashed gray;margin: 0 0.4em 0.5em 0.4em;box-sizing: border-box;padding-bottom: 0.4em;background-color: white;}#sk-container-id-1 div.sk-label label {font-family: monospace;font-weight: bold;display: inline-block;line-height: 1.2em;}#sk-container-id-1 div.sk-label-container {text-align: center;}#sk-container-id-1 div.sk-container {/* jupyter's `normalize.less` sets `[hidden] { display: none; }` but bootstrap.min.css set `[hidden] { display: none !important; }` so we also need the `!important` here to be able to override the default hidden behavior on the sphinx rendered scikit-learn.org. See: https://github.com/scikit-learn/scikit-learn/issues/21755 */display: inline-block !important;position: relative;}#sk-container-id-1 div.sk-text-repr-fallback {display: none;}</style><div id=\"sk-container-id-1\" class=\"sk-top-container\"><div class=\"sk-text-repr-fallback\"><pre>SVR(kernel=&#x27;linear&#x27;)</pre><b>In a Jupyter environment, please rerun this cell to show the HTML representation or trust the notebook. <br />On GitHub, the HTML representation is unable to render, please try loading this page with nbviewer.org.</b></div><div class=\"sk-container\" hidden><div class=\"sk-item\"><div class=\"sk-estimator sk-toggleable\"><input class=\"sk-toggleable__control sk-hidden--visually\" id=\"sk-estimator-id-1\" type=\"checkbox\" checked><label for=\"sk-estimator-id-1\" class=\"sk-toggleable__label sk-toggleable__label-arrow\">SVR</label><div class=\"sk-toggleable__content\"><pre>SVR(kernel=&#x27;linear&#x27;)</pre></div></div></div></div></div>"
      ],
      "text/plain": [
       "SVR(kernel='linear')"
      ]
     },
     "execution_count": 16,
     "metadata": {},
     "output_type": "execute_result"
    }
   ],
   "source": [
    "#Training the model\n",
    "svm_model.fit(X_train_scale,y_train)"
   ]
  },
  {
   "cell_type": "code",
   "execution_count": 33,
   "id": "6266075d",
   "metadata": {},
   "outputs": [],
   "source": [
    "#Making predictions on test set\n",
    "pred_price=svm_model.predict(X_test_scale)\n",
    "#print(\"Your Predicted Price is \",pred_price)"
   ]
  },
  {
   "cell_type": "code",
   "execution_count": 18,
   "id": "4d143456",
   "metadata": {},
   "outputs": [],
   "source": [
    "#Evaluating the model\n",
    "from sklearn.metrics import mean_squared_error,r2_score\n",
    "mse=mean_squared_error(y_test,pred_price)\n",
    "rmse = np.sqrt(mse)\n",
    "r2 = r2_score(y_test, pred_price)"
   ]
  },
  {
   "cell_type": "code",
   "execution_count": 19,
   "id": "bc06465d",
   "metadata": {
    "scrolled": true
   },
   "outputs": [
    {
     "name": "stdout",
     "output_type": "stream",
     "text": [
      "Mean Squared Error (MSE): 5.188269276508958e+25\n",
      "Root Mean Squared Error (RMSE): 7202964165195.436\n",
      "R-squared (R2): -0.004275250629327987\n"
     ]
    },
    {
     "data": {
      "text/html": [
       "<div>\n",
       "<style scoped>\n",
       "    .dataframe tbody tr th:only-of-type {\n",
       "        vertical-align: middle;\n",
       "    }\n",
       "\n",
       "    .dataframe tbody tr th {\n",
       "        vertical-align: top;\n",
       "    }\n",
       "\n",
       "    .dataframe thead th {\n",
       "        text-align: right;\n",
       "    }\n",
       "</style>\n",
       "<table border=\"1\" class=\"dataframe\">\n",
       "  <thead>\n",
       "    <tr style=\"text-align: right;\">\n",
       "      <th></th>\n",
       "      <th>Address</th>\n",
       "      <th>City</th>\n",
       "      <th>Price</th>\n",
       "      <th>Bedroom</th>\n",
       "      <th>Bathroom</th>\n",
       "      <th>Floors</th>\n",
       "      <th>Parking</th>\n",
       "      <th>Area</th>\n",
       "      <th>Road</th>\n",
       "      <th>Road Type</th>\n",
       "      <th>Amenities</th>\n",
       "      <th>road_width_meters</th>\n",
       "      <th>Wifi</th>\n",
       "      <th>Drainage</th>\n",
       "      <th>Water Supply</th>\n",
       "      <th>Internet</th>\n",
       "      <th>CCTV</th>\n",
       "      <th>Electricity Backup</th>\n",
       "      <th>Garden</th>\n",
       "      <th>Balcony</th>\n",
       "    </tr>\n",
       "  </thead>\n",
       "  <tbody>\n",
       "    <tr>\n",
       "      <th>662</th>\n",
       "      <td>1286</td>\n",
       "      <td>17</td>\n",
       "      <td>2.160000e+14</td>\n",
       "      <td>0</td>\n",
       "      <td>0</td>\n",
       "      <td>4.0</td>\n",
       "      <td>0</td>\n",
       "      <td>0-8-1-0 Aana</td>\n",
       "      <td>12 Feet / Paved</td>\n",
       "      <td>4</td>\n",
       "      <td>[]</td>\n",
       "      <td>3.6576</td>\n",
       "      <td>0</td>\n",
       "      <td>0</td>\n",
       "      <td>0</td>\n",
       "      <td>0</td>\n",
       "      <td>0</td>\n",
       "      <td>0</td>\n",
       "      <td>0</td>\n",
       "      <td>0</td>\n",
       "    </tr>\n",
       "    <tr>\n",
       "      <th>695</th>\n",
       "      <td>1406</td>\n",
       "      <td>7</td>\n",
       "      <td>1.440000e+14</td>\n",
       "      <td>0</td>\n",
       "      <td>0</td>\n",
       "      <td>3.0</td>\n",
       "      <td>0</td>\n",
       "      <td>11:10 Kattha</td>\n",
       "      <td>10 Feet / Soil Stabilized</td>\n",
       "      <td>5</td>\n",
       "      <td>[]</td>\n",
       "      <td>3.0480</td>\n",
       "      <td>0</td>\n",
       "      <td>0</td>\n",
       "      <td>0</td>\n",
       "      <td>0</td>\n",
       "      <td>0</td>\n",
       "      <td>0</td>\n",
       "      <td>0</td>\n",
       "      <td>0</td>\n",
       "    </tr>\n",
       "    <tr>\n",
       "      <th>2171</th>\n",
       "      <td>126</td>\n",
       "      <td>3</td>\n",
       "      <td>1.400000e+14</td>\n",
       "      <td>5</td>\n",
       "      <td>7</td>\n",
       "      <td>4.0</td>\n",
       "      <td>0</td>\n",
       "      <td>0-4-0-0 Aana</td>\n",
       "      <td>13 Feet / Gravelled</td>\n",
       "      <td>3</td>\n",
       "      <td>[]</td>\n",
       "      <td>3.9624</td>\n",
       "      <td>0</td>\n",
       "      <td>0</td>\n",
       "      <td>0</td>\n",
       "      <td>0</td>\n",
       "      <td>0</td>\n",
       "      <td>0</td>\n",
       "      <td>0</td>\n",
       "      <td>0</td>\n",
       "    </tr>\n",
       "    <tr>\n",
       "      <th>1024</th>\n",
       "      <td>1562</td>\n",
       "      <td>17</td>\n",
       "      <td>1.300000e+14</td>\n",
       "      <td>2</td>\n",
       "      <td>1</td>\n",
       "      <td>1.0</td>\n",
       "      <td>0</td>\n",
       "      <td>0-2 -0-2 Aana</td>\n",
       "      <td>10 Feet / Soil Stabilized</td>\n",
       "      <td>5</td>\n",
       "      <td>['Water Well', 'Water Tank', 'Water Supply', '...</td>\n",
       "      <td>3.0480</td>\n",
       "      <td>0</td>\n",
       "      <td>1</td>\n",
       "      <td>1</td>\n",
       "      <td>0</td>\n",
       "      <td>0</td>\n",
       "      <td>0</td>\n",
       "      <td>0</td>\n",
       "      <td>0</td>\n",
       "    </tr>\n",
       "    <tr>\n",
       "      <th>585</th>\n",
       "      <td>353</td>\n",
       "      <td>17</td>\n",
       "      <td>9.900000e+13</td>\n",
       "      <td>0</td>\n",
       "      <td>0</td>\n",
       "      <td>4.0</td>\n",
       "      <td>0</td>\n",
       "      <td>3 Aana</td>\n",
       "      <td>12 Feet / Blacktopped</td>\n",
       "      <td>1</td>\n",
       "      <td>[]</td>\n",
       "      <td>3.6576</td>\n",
       "      <td>0</td>\n",
       "      <td>0</td>\n",
       "      <td>0</td>\n",
       "      <td>0</td>\n",
       "      <td>0</td>\n",
       "      <td>0</td>\n",
       "      <td>0</td>\n",
       "      <td>0</td>\n",
       "    </tr>\n",
       "  </tbody>\n",
       "</table>\n",
       "</div>"
      ],
      "text/plain": [
       "      Address  City         Price  Bedroom  Bathroom  Floors  Parking  \\\n",
       "662      1286    17  2.160000e+14        0         0     4.0        0   \n",
       "695      1406     7  1.440000e+14        0         0     3.0        0   \n",
       "2171      126     3  1.400000e+14        5         7     4.0        0   \n",
       "1024     1562    17  1.300000e+14        2         1     1.0        0   \n",
       "585       353    17  9.900000e+13        0         0     4.0        0   \n",
       "\n",
       "               Area                       Road  Road Type  \\\n",
       "662    0-8-1-0 Aana            12 Feet / Paved          4   \n",
       "695    11:10 Kattha  10 Feet / Soil Stabilized          5   \n",
       "2171   0-4-0-0 Aana        13 Feet / Gravelled          3   \n",
       "1024  0-2 -0-2 Aana  10 Feet / Soil Stabilized          5   \n",
       "585          3 Aana      12 Feet / Blacktopped          1   \n",
       "\n",
       "                                              Amenities  road_width_meters  \\\n",
       "662                                                  []             3.6576   \n",
       "695                                                  []             3.0480   \n",
       "2171                                                 []             3.9624   \n",
       "1024  ['Water Well', 'Water Tank', 'Water Supply', '...             3.0480   \n",
       "585                                                  []             3.6576   \n",
       "\n",
       "      Wifi  Drainage  Water Supply  Internet  CCTV  Electricity Backup  \\\n",
       "662      0         0             0         0     0                   0   \n",
       "695      0         0             0         0     0                   0   \n",
       "2171     0         0             0         0     0                   0   \n",
       "1024     0         1             1         0     0                   0   \n",
       "585      0         0             0         0     0                   0   \n",
       "\n",
       "      Garden  Balcony  \n",
       "662        0        0  \n",
       "695        0        0  \n",
       "2171       0        0  \n",
       "1024       0        0  \n",
       "585        0        0  "
      ]
     },
     "execution_count": 19,
     "metadata": {},
     "output_type": "execute_result"
    }
   ],
   "source": [
    "print(\"Mean Squared Error (MSE):\", mse)\n",
    "print(\"Root Mean Squared Error (RMSE):\", rmse)\n",
    "print(\"R-squared (R2):\", r2)\n",
    "HouseDS.head()"
   ]
  },
  {
   "cell_type": "code",
   "execution_count": 20,
   "id": "7eb35bad",
   "metadata": {},
   "outputs": [
    {
     "data": {
      "text/plain": [
       "'new_house=[[1286,17,5,6,3,5,5,3.6576]]\\nnew_house_scale=scaler.transform(new_house)\\npred_price=svm_model.predict(new_house)\\nprint(\"Your Predicted Price is \",pred_price)'"
      ]
     },
     "execution_count": 20,
     "metadata": {},
     "output_type": "execute_result"
    }
   ],
   "source": [
    "'''new_house=[[1286,17,5,6,3,5,5,3.6576]]\n",
    "new_house_scale=scaler.transform(new_house)\n",
    "pred_price=svm_model.predict(new_house)\n",
    "print(\"Your Predicted Price is \",pred_price)'''"
   ]
  },
  {
   "cell_type": "code",
   "execution_count": 21,
   "id": "eaaa1904",
   "metadata": {},
   "outputs": [
    {
     "data": {
      "text/plain": [
       "'def House_requirement():\\n    No_of_Bedroom=int(input(\"Enter Number of bedrooms: \"))\\n    No_of_Bathroom=int(input(\"Enter Number of bathrooms: \"))\\n    No_of_Floors=float(input(\"Enter Number of floors: \"))\\n    No_of_Parking=int(input(\"Enter Number of Parking Space: \"))\\n    #Address=input(\"Enter the address of house: \")\\n    #City=input(\"Enter the City of house located: \")\\n    new_house=[[No_of_Bedroom,No_of_Bathroom,No_of_Floors,No_of_Parking]]\\n    new_house_scale=scaler.transform(new_house)\\n    pred_price=svm_model.predict(new_house_scale)\\n    print(\"Your Predicted Price is \",pred_price)\\nHouse_requirement() '"
      ]
     },
     "execution_count": 21,
     "metadata": {},
     "output_type": "execute_result"
    }
   ],
   "source": [
    "#data->(Bedroom,Bathroom,Floors,ParkingSpace,Views(Visually Attractive),City,Address)\n",
    "'''def House_requirement():\n",
    "    No_of_Bedroom=int(input(\"Enter Number of bedrooms: \"))\n",
    "    No_of_Bathroom=int(input(\"Enter Number of bathrooms: \"))\n",
    "    No_of_Floors=float(input(\"Enter Number of floors: \"))\n",
    "    No_of_Parking=int(input(\"Enter Number of Parking Space: \"))\n",
    "    #Address=input(\"Enter the address of house: \")\n",
    "    #City=input(\"Enter the City of house located: \")\n",
    "    new_house=[[No_of_Bedroom,No_of_Bathroom,No_of_Floors,No_of_Parking]]\n",
    "    new_house_scale=scaler.transform(new_house)\n",
    "    pred_price=svm_model.predict(new_house_scale)\n",
    "    print(\"Your Predicted Price is \",pred_price)\n",
    "House_requirement() '''"
   ]
  },
  {
   "cell_type": "code",
   "execution_count": 22,
   "id": "d6bb4f72",
   "metadata": {},
   "outputs": [],
   "source": [
    "# Import Random Forest Regressor\n",
    "from sklearn.ensemble import RandomForestRegressor"
   ]
  },
  {
   "cell_type": "code",
   "execution_count": 23,
   "id": "7d7859b1",
   "metadata": {},
   "outputs": [
    {
     "data": {
      "text/html": [
       "<style>#sk-container-id-2 {color: black;background-color: white;}#sk-container-id-2 pre{padding: 0;}#sk-container-id-2 div.sk-toggleable {background-color: white;}#sk-container-id-2 label.sk-toggleable__label {cursor: pointer;display: block;width: 100%;margin-bottom: 0;padding: 0.3em;box-sizing: border-box;text-align: center;}#sk-container-id-2 label.sk-toggleable__label-arrow:before {content: \"▸\";float: left;margin-right: 0.25em;color: #696969;}#sk-container-id-2 label.sk-toggleable__label-arrow:hover:before {color: black;}#sk-container-id-2 div.sk-estimator:hover label.sk-toggleable__label-arrow:before {color: black;}#sk-container-id-2 div.sk-toggleable__content {max-height: 0;max-width: 0;overflow: hidden;text-align: left;background-color: #f0f8ff;}#sk-container-id-2 div.sk-toggleable__content pre {margin: 0.2em;color: black;border-radius: 0.25em;background-color: #f0f8ff;}#sk-container-id-2 input.sk-toggleable__control:checked~div.sk-toggleable__content {max-height: 200px;max-width: 100%;overflow: auto;}#sk-container-id-2 input.sk-toggleable__control:checked~label.sk-toggleable__label-arrow:before {content: \"▾\";}#sk-container-id-2 div.sk-estimator input.sk-toggleable__control:checked~label.sk-toggleable__label {background-color: #d4ebff;}#sk-container-id-2 div.sk-label input.sk-toggleable__control:checked~label.sk-toggleable__label {background-color: #d4ebff;}#sk-container-id-2 input.sk-hidden--visually {border: 0;clip: rect(1px 1px 1px 1px);clip: rect(1px, 1px, 1px, 1px);height: 1px;margin: -1px;overflow: hidden;padding: 0;position: absolute;width: 1px;}#sk-container-id-2 div.sk-estimator {font-family: monospace;background-color: #f0f8ff;border: 1px dotted black;border-radius: 0.25em;box-sizing: border-box;margin-bottom: 0.5em;}#sk-container-id-2 div.sk-estimator:hover {background-color: #d4ebff;}#sk-container-id-2 div.sk-parallel-item::after {content: \"\";width: 100%;border-bottom: 1px solid gray;flex-grow: 1;}#sk-container-id-2 div.sk-label:hover label.sk-toggleable__label {background-color: #d4ebff;}#sk-container-id-2 div.sk-serial::before {content: \"\";position: absolute;border-left: 1px solid gray;box-sizing: border-box;top: 0;bottom: 0;left: 50%;z-index: 0;}#sk-container-id-2 div.sk-serial {display: flex;flex-direction: column;align-items: center;background-color: white;padding-right: 0.2em;padding-left: 0.2em;position: relative;}#sk-container-id-2 div.sk-item {position: relative;z-index: 1;}#sk-container-id-2 div.sk-parallel {display: flex;align-items: stretch;justify-content: center;background-color: white;position: relative;}#sk-container-id-2 div.sk-item::before, #sk-container-id-2 div.sk-parallel-item::before {content: \"\";position: absolute;border-left: 1px solid gray;box-sizing: border-box;top: 0;bottom: 0;left: 50%;z-index: -1;}#sk-container-id-2 div.sk-parallel-item {display: flex;flex-direction: column;z-index: 1;position: relative;background-color: white;}#sk-container-id-2 div.sk-parallel-item:first-child::after {align-self: flex-end;width: 50%;}#sk-container-id-2 div.sk-parallel-item:last-child::after {align-self: flex-start;width: 50%;}#sk-container-id-2 div.sk-parallel-item:only-child::after {width: 0;}#sk-container-id-2 div.sk-dashed-wrapped {border: 1px dashed gray;margin: 0 0.4em 0.5em 0.4em;box-sizing: border-box;padding-bottom: 0.4em;background-color: white;}#sk-container-id-2 div.sk-label label {font-family: monospace;font-weight: bold;display: inline-block;line-height: 1.2em;}#sk-container-id-2 div.sk-label-container {text-align: center;}#sk-container-id-2 div.sk-container {/* jupyter's `normalize.less` sets `[hidden] { display: none; }` but bootstrap.min.css set `[hidden] { display: none !important; }` so we also need the `!important` here to be able to override the default hidden behavior on the sphinx rendered scikit-learn.org. See: https://github.com/scikit-learn/scikit-learn/issues/21755 */display: inline-block !important;position: relative;}#sk-container-id-2 div.sk-text-repr-fallback {display: none;}</style><div id=\"sk-container-id-2\" class=\"sk-top-container\"><div class=\"sk-text-repr-fallback\"><pre>RandomForestRegressor(random_state=42)</pre><b>In a Jupyter environment, please rerun this cell to show the HTML representation or trust the notebook. <br />On GitHub, the HTML representation is unable to render, please try loading this page with nbviewer.org.</b></div><div class=\"sk-container\" hidden><div class=\"sk-item\"><div class=\"sk-estimator sk-toggleable\"><input class=\"sk-toggleable__control sk-hidden--visually\" id=\"sk-estimator-id-2\" type=\"checkbox\" checked><label for=\"sk-estimator-id-2\" class=\"sk-toggleable__label sk-toggleable__label-arrow\">RandomForestRegressor</label><div class=\"sk-toggleable__content\"><pre>RandomForestRegressor(random_state=42)</pre></div></div></div></div></div>"
      ],
      "text/plain": [
       "RandomForestRegressor(random_state=42)"
      ]
     },
     "execution_count": 23,
     "metadata": {},
     "output_type": "execute_result"
    }
   ],
   "source": [
    "# Create a Random Forest Regressor and Train the model using the training sets \n",
    "rf = RandomForestRegressor(random_state=42)\n",
    "rf.fit(X_train, y_train)"
   ]
  },
  {
   "cell_type": "code",
   "execution_count": 24,
   "id": "39509355",
   "metadata": {},
   "outputs": [
    {
     "data": {
      "text/plain": [
       "array([37093000.        , 10973650.        , 77800553.18095239, ...,\n",
       "        9576550.        , 41029000.        , 10095620.        ])"
      ]
     },
     "execution_count": 24,
     "metadata": {},
     "output_type": "execute_result"
    }
   ],
   "source": [
    "#Prediction on train Data\n",
    "y_pred = rf.predict(X_train)\n",
    "y_pred"
   ]
  },
  {
   "cell_type": "code",
   "execution_count": 25,
   "id": "872e3c70",
   "metadata": {},
   "outputs": [
    {
     "name": "stdout",
     "output_type": "stream",
     "text": [
      "R^2: 0.7816072182305281\n",
      "Adjusted R^2: 0.7796116245650161\n",
      "MAE: 375132237022.00397\n",
      "MSE: 1.280160211369834e+25\n",
      "RMSE: 3577932659189.9883\n"
     ]
    }
   ],
   "source": [
    "# Model Evaluation\n",
    "from sklearn import metrics\n",
    "print('R^2:',metrics.r2_score(y_train, y_pred))\n",
    "print('Adjusted R^2:',1 - (1-metrics.r2_score(y_train, y_pred))*(len(y_train)-1)/(len(y_train)-X_train.shape[1]-1))\n",
    "print('MAE:',metrics.mean_absolute_error(y_train, y_pred))\n",
    "print('MSE:',metrics.mean_squared_error(y_train, y_pred))\n",
    "print('RMSE:',np.sqrt(metrics.mean_squared_error(y_train, y_pred)))"
   ]
  },
  {
   "cell_type": "code",
   "execution_count": 26,
   "id": "781ae980",
   "metadata": {},
   "outputs": [
    {
     "data": {
      "text/plain": [
       "'new_house=[[100,5,6,6,3,6,5,6.5]]\\nnew_house_scale=scaler.transform(new_house)\\npred_price=rf.predict(new_house)\\nprint(\"Your Predicted Price is \",pred_price)'"
      ]
     },
     "execution_count": 26,
     "metadata": {},
     "output_type": "execute_result"
    }
   ],
   "source": [
    "'''new_house=[[100,5,6,6,3,6,5,6.5]]\n",
    "new_house_scale=scaler.transform(new_house)\n",
    "pred_price=rf.predict(new_house)\n",
    "print(\"Your Predicted Price is \",pred_price)'''"
   ]
  },
  {
   "cell_type": "code",
   "execution_count": 27,
   "id": "e84fcb10",
   "metadata": {},
   "outputs": [
    {
     "data": {
      "text/html": [
       "<div>\n",
       "<style scoped>\n",
       "    .dataframe tbody tr th:only-of-type {\n",
       "        vertical-align: middle;\n",
       "    }\n",
       "\n",
       "    .dataframe tbody tr th {\n",
       "        vertical-align: top;\n",
       "    }\n",
       "\n",
       "    .dataframe thead th {\n",
       "        text-align: right;\n",
       "    }\n",
       "</style>\n",
       "<table border=\"1\" class=\"dataframe\">\n",
       "  <thead>\n",
       "    <tr style=\"text-align: right;\">\n",
       "      <th></th>\n",
       "      <th>Address</th>\n",
       "      <th>City</th>\n",
       "      <th>Price</th>\n",
       "      <th>Bedroom</th>\n",
       "      <th>Bathroom</th>\n",
       "      <th>Floors</th>\n",
       "      <th>Parking</th>\n",
       "      <th>Road Type</th>\n",
       "      <th>road_width_meters</th>\n",
       "      <th>Wifi</th>\n",
       "      <th>Drainage</th>\n",
       "      <th>Water Supply</th>\n",
       "      <th>Internet</th>\n",
       "      <th>CCTV</th>\n",
       "      <th>Electricity Backup</th>\n",
       "      <th>Garden</th>\n",
       "      <th>Balcony</th>\n",
       "    </tr>\n",
       "  </thead>\n",
       "  <tbody>\n",
       "    <tr>\n",
       "      <th>count</th>\n",
       "      <td>2211.000000</td>\n",
       "      <td>2211.000000</td>\n",
       "      <td>2.211000e+03</td>\n",
       "      <td>2211.000000</td>\n",
       "      <td>2211.000000</td>\n",
       "      <td>2211.000000</td>\n",
       "      <td>2211.000000</td>\n",
       "      <td>2211.000000</td>\n",
       "      <td>2211.000000</td>\n",
       "      <td>2211.000000</td>\n",
       "      <td>2211.000000</td>\n",
       "      <td>2211.000000</td>\n",
       "      <td>2211.000000</td>\n",
       "      <td>2211.000000</td>\n",
       "      <td>2211.000000</td>\n",
       "      <td>2211.000000</td>\n",
       "      <td>2211.000000</td>\n",
       "    </tr>\n",
       "    <tr>\n",
       "      <th>mean</th>\n",
       "      <td>774.190864</td>\n",
       "      <td>17.160561</td>\n",
       "      <td>4.065559e+11</td>\n",
       "      <td>3.033921</td>\n",
       "      <td>2.227047</td>\n",
       "      <td>2.679941</td>\n",
       "      <td>0.178652</td>\n",
       "      <td>3.556762</td>\n",
       "      <td>5.555273</td>\n",
       "      <td>0.215287</td>\n",
       "      <td>0.361375</td>\n",
       "      <td>0.396201</td>\n",
       "      <td>0.099502</td>\n",
       "      <td>0.026685</td>\n",
       "      <td>0.070556</td>\n",
       "      <td>0.177295</td>\n",
       "      <td>0.350972</td>\n",
       "    </tr>\n",
       "    <tr>\n",
       "      <th>std</th>\n",
       "      <td>447.623005</td>\n",
       "      <td>4.151105</td>\n",
       "      <td>7.566414e+12</td>\n",
       "      <td>4.009855</td>\n",
       "      <td>2.598992</td>\n",
       "      <td>1.025188</td>\n",
       "      <td>0.383147</td>\n",
       "      <td>2.146409</td>\n",
       "      <td>17.294831</td>\n",
       "      <td>0.411114</td>\n",
       "      <td>0.480508</td>\n",
       "      <td>0.489218</td>\n",
       "      <td>0.299403</td>\n",
       "      <td>0.161197</td>\n",
       "      <td>0.256140</td>\n",
       "      <td>0.382005</td>\n",
       "      <td>0.477382</td>\n",
       "    </tr>\n",
       "    <tr>\n",
       "      <th>min</th>\n",
       "      <td>0.000000</td>\n",
       "      <td>0.000000</td>\n",
       "      <td>9.000000e+01</td>\n",
       "      <td>0.000000</td>\n",
       "      <td>0.000000</td>\n",
       "      <td>0.000000</td>\n",
       "      <td>0.000000</td>\n",
       "      <td>0.000000</td>\n",
       "      <td>0.000000</td>\n",
       "      <td>0.000000</td>\n",
       "      <td>0.000000</td>\n",
       "      <td>0.000000</td>\n",
       "      <td>0.000000</td>\n",
       "      <td>0.000000</td>\n",
       "      <td>0.000000</td>\n",
       "      <td>0.000000</td>\n",
       "      <td>0.000000</td>\n",
       "    </tr>\n",
       "    <tr>\n",
       "      <th>25%</th>\n",
       "      <td>399.500000</td>\n",
       "      <td>17.000000</td>\n",
       "      <td>1.300000e+06</td>\n",
       "      <td>0.000000</td>\n",
       "      <td>0.000000</td>\n",
       "      <td>2.000000</td>\n",
       "      <td>0.000000</td>\n",
       "      <td>1.000000</td>\n",
       "      <td>3.962400</td>\n",
       "      <td>0.000000</td>\n",
       "      <td>0.000000</td>\n",
       "      <td>0.000000</td>\n",
       "      <td>0.000000</td>\n",
       "      <td>0.000000</td>\n",
       "      <td>0.000000</td>\n",
       "      <td>0.000000</td>\n",
       "      <td>0.000000</td>\n",
       "    </tr>\n",
       "    <tr>\n",
       "      <th>50%</th>\n",
       "      <td>781.000000</td>\n",
       "      <td>17.000000</td>\n",
       "      <td>8.000000e+06</td>\n",
       "      <td>3.000000</td>\n",
       "      <td>2.000000</td>\n",
       "      <td>3.000000</td>\n",
       "      <td>0.000000</td>\n",
       "      <td>3.000000</td>\n",
       "      <td>4.572000</td>\n",
       "      <td>0.000000</td>\n",
       "      <td>0.000000</td>\n",
       "      <td>0.000000</td>\n",
       "      <td>0.000000</td>\n",
       "      <td>0.000000</td>\n",
       "      <td>0.000000</td>\n",
       "      <td>0.000000</td>\n",
       "      <td>0.000000</td>\n",
       "    </tr>\n",
       "    <tr>\n",
       "      <th>75%</th>\n",
       "      <td>1166.500000</td>\n",
       "      <td>18.000000</td>\n",
       "      <td>2.650000e+07</td>\n",
       "      <td>5.000000</td>\n",
       "      <td>4.000000</td>\n",
       "      <td>3.000000</td>\n",
       "      <td>0.000000</td>\n",
       "      <td>6.000000</td>\n",
       "      <td>6.096000</td>\n",
       "      <td>0.000000</td>\n",
       "      <td>1.000000</td>\n",
       "      <td>1.000000</td>\n",
       "      <td>0.000000</td>\n",
       "      <td>0.000000</td>\n",
       "      <td>0.000000</td>\n",
       "      <td>0.000000</td>\n",
       "      <td>1.000000</td>\n",
       "    </tr>\n",
       "    <tr>\n",
       "      <th>max</th>\n",
       "      <td>1587.000000</td>\n",
       "      <td>31.000000</td>\n",
       "      <td>2.160000e+14</td>\n",
       "      <td>95.000000</td>\n",
       "      <td>40.000000</td>\n",
       "      <td>13.000000</td>\n",
       "      <td>1.000000</td>\n",
       "      <td>6.000000</td>\n",
       "      <td>500.000000</td>\n",
       "      <td>1.000000</td>\n",
       "      <td>1.000000</td>\n",
       "      <td>1.000000</td>\n",
       "      <td>1.000000</td>\n",
       "      <td>1.000000</td>\n",
       "      <td>1.000000</td>\n",
       "      <td>1.000000</td>\n",
       "      <td>1.000000</td>\n",
       "    </tr>\n",
       "  </tbody>\n",
       "</table>\n",
       "</div>"
      ],
      "text/plain": [
       "           Address         City         Price      Bedroom     Bathroom  \\\n",
       "count  2211.000000  2211.000000  2.211000e+03  2211.000000  2211.000000   \n",
       "mean    774.190864    17.160561  4.065559e+11     3.033921     2.227047   \n",
       "std     447.623005     4.151105  7.566414e+12     4.009855     2.598992   \n",
       "min       0.000000     0.000000  9.000000e+01     0.000000     0.000000   \n",
       "25%     399.500000    17.000000  1.300000e+06     0.000000     0.000000   \n",
       "50%     781.000000    17.000000  8.000000e+06     3.000000     2.000000   \n",
       "75%    1166.500000    18.000000  2.650000e+07     5.000000     4.000000   \n",
       "max    1587.000000    31.000000  2.160000e+14    95.000000    40.000000   \n",
       "\n",
       "            Floors      Parking    Road Type  road_width_meters         Wifi  \\\n",
       "count  2211.000000  2211.000000  2211.000000        2211.000000  2211.000000   \n",
       "mean      2.679941     0.178652     3.556762           5.555273     0.215287   \n",
       "std       1.025188     0.383147     2.146409          17.294831     0.411114   \n",
       "min       0.000000     0.000000     0.000000           0.000000     0.000000   \n",
       "25%       2.000000     0.000000     1.000000           3.962400     0.000000   \n",
       "50%       3.000000     0.000000     3.000000           4.572000     0.000000   \n",
       "75%       3.000000     0.000000     6.000000           6.096000     0.000000   \n",
       "max      13.000000     1.000000     6.000000         500.000000     1.000000   \n",
       "\n",
       "          Drainage  Water Supply     Internet         CCTV  \\\n",
       "count  2211.000000   2211.000000  2211.000000  2211.000000   \n",
       "mean      0.361375      0.396201     0.099502     0.026685   \n",
       "std       0.480508      0.489218     0.299403     0.161197   \n",
       "min       0.000000      0.000000     0.000000     0.000000   \n",
       "25%       0.000000      0.000000     0.000000     0.000000   \n",
       "50%       0.000000      0.000000     0.000000     0.000000   \n",
       "75%       1.000000      1.000000     0.000000     0.000000   \n",
       "max       1.000000      1.000000     1.000000     1.000000   \n",
       "\n",
       "       Electricity Backup       Garden      Balcony  \n",
       "count         2211.000000  2211.000000  2211.000000  \n",
       "mean             0.070556     0.177295     0.350972  \n",
       "std              0.256140     0.382005     0.477382  \n",
       "min              0.000000     0.000000     0.000000  \n",
       "25%              0.000000     0.000000     0.000000  \n",
       "50%              0.000000     0.000000     0.000000  \n",
       "75%              0.000000     0.000000     1.000000  \n",
       "max              1.000000     1.000000     1.000000  "
      ]
     },
     "execution_count": 27,
     "metadata": {},
     "output_type": "execute_result"
    }
   ],
   "source": [
    "HouseDS.describe()"
   ]
  },
  {
   "cell_type": "code",
   "execution_count": null,
   "id": "e2b6b08c",
   "metadata": {},
   "outputs": [],
   "source": []
  }
 ],
 "metadata": {
  "kernelspec": {
   "display_name": "Python 3 (ipykernel)",
   "language": "python",
   "name": "python3"
  },
  "language_info": {
   "codemirror_mode": {
    "name": "ipython",
    "version": 3
   },
   "file_extension": ".py",
   "mimetype": "text/x-python",
   "name": "python",
   "nbconvert_exporter": "python",
   "pygments_lexer": "ipython3",
   "version": "3.10.11"
  }
 },
 "nbformat": 4,
 "nbformat_minor": 5
}
