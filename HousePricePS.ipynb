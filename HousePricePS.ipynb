{
 "cells": [
  {
   "cell_type": "code",
   "execution_count": 1,
   "id": "25ffc9b0",
   "metadata": {},
   "outputs": [],
   "source": [
    "import pandas as pd\n",
    "import numpy as np\n",
    "import seaborn as sns\n",
    "import matplotlib.pyplot as plt\n",
    "from sklearn.model_selection import train_test_split\n",
    "from sklearn.preprocessing import LabelEncoder, StandardScaler\n",
    "from sklearn.svm import SVR\n",
    "from sklearn.metrics import accuracy_score\n",
    "sns.set(style=\"white\",color_codes=True)"
   ]
  },
  {
   "cell_type": "code",
   "execution_count": 2,
   "id": "096881c0",
   "metadata": {},
   "outputs": [
    {
     "data": {
      "text/html": [
       "<div>\n",
       "<style scoped>\n",
       "    .dataframe tbody tr th:only-of-type {\n",
       "        vertical-align: middle;\n",
       "    }\n",
       "\n",
       "    .dataframe tbody tr th {\n",
       "        vertical-align: top;\n",
       "    }\n",
       "\n",
       "    .dataframe thead th {\n",
       "        text-align: right;\n",
       "    }\n",
       "</style>\n",
       "<table border=\"1\" class=\"dataframe\">\n",
       "  <thead>\n",
       "    <tr style=\"text-align: right;\">\n",
       "      <th></th>\n",
       "      <th>Title</th>\n",
       "      <th>Address</th>\n",
       "      <th>City</th>\n",
       "      <th>Price</th>\n",
       "      <th>Bedroom</th>\n",
       "      <th>Bathroom</th>\n",
       "      <th>Floors</th>\n",
       "      <th>Parking</th>\n",
       "      <th>Views</th>\n",
       "      <th>Area</th>\n",
       "      <th>Road</th>\n",
       "      <th>Road Width</th>\n",
       "      <th>Road Type</th>\n",
       "      <th>Amenities</th>\n",
       "    </tr>\n",
       "  </thead>\n",
       "  <tbody>\n",
       "    <tr>\n",
       "      <th>0</th>\n",
       "      <td>Flat System House On Sale At Budhanikantha : H...</td>\n",
       "      <td>Budhanikantha, Budhanilkantha, Kathmandu</td>\n",
       "      <td>Kathmandu</td>\n",
       "      <td>90000000.0</td>\n",
       "      <td>6</td>\n",
       "      <td>3</td>\n",
       "      <td>2.0</td>\n",
       "      <td>10</td>\n",
       "      <td>17</td>\n",
       "      <td>1-0-0-0 Aana</td>\n",
       "      <td>20 Feet / Blacktopped</td>\n",
       "      <td>20 Feet</td>\n",
       "      <td>Blacktopped</td>\n",
       "      <td>['Parking', 'Lawn', 'Garage', 'Frontyard', 'Fe...</td>\n",
       "    </tr>\n",
       "    <tr>\n",
       "      <th>1</th>\n",
       "      <td>21 Aana Beautiful House : House For Sale In Bu...</td>\n",
       "      <td>Pasikot, Budhanilkantha, Kathmandu</td>\n",
       "      <td>Kathmandu</td>\n",
       "      <td>80000000.0</td>\n",
       "      <td>5</td>\n",
       "      <td>3</td>\n",
       "      <td>2.0</td>\n",
       "      <td>9</td>\n",
       "      <td>26</td>\n",
       "      <td>0-21-0-0 Aana</td>\n",
       "      <td>20 Feet / Blacktopped</td>\n",
       "      <td>20 Feet</td>\n",
       "      <td>Blacktopped</td>\n",
       "      <td>['Parking', 'Garage', 'Fencing', 'Frontyard', ...</td>\n",
       "    </tr>\n",
       "    <tr>\n",
       "      <th>2</th>\n",
       "      <td>Beautiful To Floor House : House For Sale In D...</td>\n",
       "      <td>Dhapasi, Dhapasi, Kathmandu</td>\n",
       "      <td>Kathmandu</td>\n",
       "      <td>70000000.0</td>\n",
       "      <td>5</td>\n",
       "      <td>3</td>\n",
       "      <td>2.0</td>\n",
       "      <td>12</td>\n",
       "      <td>154</td>\n",
       "      <td>1-1-0-0 Aana</td>\n",
       "      <td>20 Feet / Blacktopped</td>\n",
       "      <td>20 Feet</td>\n",
       "      <td>Blacktopped</td>\n",
       "      <td>['Parking', 'Lawn', 'Garage', 'Frontyard', 'Fe...</td>\n",
       "    </tr>\n",
       "    <tr>\n",
       "      <th>3</th>\n",
       "      <td>Modern Architecture Bungalow House : House For...</td>\n",
       "      <td>baluwatar, Baluwatar, Kathmandu</td>\n",
       "      <td>Kathmandu</td>\n",
       "      <td>130000000.0</td>\n",
       "      <td>6</td>\n",
       "      <td>4</td>\n",
       "      <td>3.0</td>\n",
       "      <td>9</td>\n",
       "      <td>17</td>\n",
       "      <td>0-10-1-0 Aana</td>\n",
       "      <td>20 Feet / Blacktopped</td>\n",
       "      <td>20 Feet</td>\n",
       "      <td>Blacktopped</td>\n",
       "      <td>['Parking', 'Lawn', 'Garage', 'Frontyard', 'Fe...</td>\n",
       "    </tr>\n",
       "    <tr>\n",
       "      <th>4</th>\n",
       "      <td>Modern Bungalow House : House For Sale In Golf...</td>\n",
       "      <td>Golfutar, Golfutar, Kathmandu</td>\n",
       "      <td>Kathmandu</td>\n",
       "      <td>100000000.0</td>\n",
       "      <td>6</td>\n",
       "      <td>3</td>\n",
       "      <td>2.0</td>\n",
       "      <td>10</td>\n",
       "      <td>59</td>\n",
       "      <td>0-19-2-0 Aana</td>\n",
       "      <td>20 Feet / Blacktopped</td>\n",
       "      <td>20 Feet</td>\n",
       "      <td>Blacktopped</td>\n",
       "      <td>['Parking', 'Lawn', 'Garage', 'Balcony', 'Back...</td>\n",
       "    </tr>\n",
       "  </tbody>\n",
       "</table>\n",
       "</div>"
      ],
      "text/plain": [
       "                                               Title  \\\n",
       "0  Flat System House On Sale At Budhanikantha : H...   \n",
       "1  21 Aana Beautiful House : House For Sale In Bu...   \n",
       "2  Beautiful To Floor House : House For Sale In D...   \n",
       "3  Modern Architecture Bungalow House : House For...   \n",
       "4  Modern Bungalow House : House For Sale In Golf...   \n",
       "\n",
       "                                    Address       City        Price  Bedroom  \\\n",
       "0  Budhanikantha, Budhanilkantha, Kathmandu  Kathmandu   90000000.0        6   \n",
       "1        Pasikot, Budhanilkantha, Kathmandu  Kathmandu   80000000.0        5   \n",
       "2               Dhapasi, Dhapasi, Kathmandu  Kathmandu   70000000.0        5   \n",
       "3           baluwatar, Baluwatar, Kathmandu  Kathmandu  130000000.0        6   \n",
       "4             Golfutar, Golfutar, Kathmandu  Kathmandu  100000000.0        6   \n",
       "\n",
       "   Bathroom  Floors  Parking  Views           Area                   Road  \\\n",
       "0         3     2.0       10     17   1-0-0-0 Aana  20 Feet / Blacktopped   \n",
       "1         3     2.0        9     26  0-21-0-0 Aana  20 Feet / Blacktopped   \n",
       "2         3     2.0       12    154   1-1-0-0 Aana  20 Feet / Blacktopped   \n",
       "3         4     3.0        9     17  0-10-1-0 Aana  20 Feet / Blacktopped   \n",
       "4         3     2.0       10     59  0-19-2-0 Aana  20 Feet / Blacktopped   \n",
       "\n",
       "  Road Width     Road Type                                          Amenities  \n",
       "0   20 Feet    Blacktopped  ['Parking', 'Lawn', 'Garage', 'Frontyard', 'Fe...  \n",
       "1   20 Feet    Blacktopped  ['Parking', 'Garage', 'Fencing', 'Frontyard', ...  \n",
       "2   20 Feet    Blacktopped  ['Parking', 'Lawn', 'Garage', 'Frontyard', 'Fe...  \n",
       "3   20 Feet    Blacktopped  ['Parking', 'Lawn', 'Garage', 'Frontyard', 'Fe...  \n",
       "4   20 Feet    Blacktopped  ['Parking', 'Lawn', 'Garage', 'Balcony', 'Back...  "
      ]
     },
     "execution_count": 2,
     "metadata": {},
     "output_type": "execute_result"
    }
   ],
   "source": [
    "HouseDS=pd.read_csv(\"HousePS.csv\")\n",
    "HouseDS.head()"
   ]
  },
  {
   "cell_type": "code",
   "execution_count": 3,
   "id": "54fe82a2",
   "metadata": {},
   "outputs": [
    {
     "name": "stdout",
     "output_type": "stream",
     "text": [
      "<class 'pandas.core.frame.DataFrame'>\n",
      "RangeIndex: 2211 entries, 0 to 2210\n",
      "Data columns (total 14 columns):\n",
      " #   Column      Non-Null Count  Dtype  \n",
      "---  ------      --------------  -----  \n",
      " 0   Title       2211 non-null   object \n",
      " 1   Address     2211 non-null   object \n",
      " 2   City        2211 non-null   object \n",
      " 3   Price       2211 non-null   float64\n",
      " 4   Bedroom     2211 non-null   int64  \n",
      " 5   Bathroom    2211 non-null   int64  \n",
      " 6   Floors      2211 non-null   float64\n",
      " 7   Parking     2211 non-null   int64  \n",
      " 8   Views       2211 non-null   int64  \n",
      " 9   Area        2211 non-null   object \n",
      " 10  Road        2211 non-null   object \n",
      " 11  Road Width  2211 non-null   object \n",
      " 12  Road Type   1426 non-null   object \n",
      " 13  Amenities   2211 non-null   object \n",
      "dtypes: float64(2), int64(4), object(8)\n",
      "memory usage: 242.0+ KB\n"
     ]
    }
   ],
   "source": [
    "HouseDS.info()"
   ]
  },
  {
   "cell_type": "code",
   "execution_count": 4,
   "id": "ff95e36c",
   "metadata": {},
   "outputs": [
    {
     "name": "stdout",
     "output_type": "stream",
     "text": [
      "2211\n"
     ]
    }
   ],
   "source": [
    "#Filtering the Address\n",
    "Filter_Address= [item.split(\",\")[1].strip() for sublist in [HouseDS['Address']] for item in sublist]\n",
    "print(len(Filter_Address))       "
   ]
  },
  {
   "cell_type": "code",
   "execution_count": 6,
   "id": "6e6acaa0",
   "metadata": {},
   "outputs": [],
   "source": [
    "def parse_road_width(x):\n",
    "    qty,measure=x.split(' ')[0],x.split(' ')[1]\n",
    "    if measure =='Feet':\n",
    "        return float(qty)*0.3048\n",
    "    return float(qty)\n",
    "HouseDS['road_width_meters']=HouseDS['Road Width'].astype('str').apply(parse_road_width)\n",
    "del HouseDS['Road Width']\n",
    "del HouseDS['Views']\n",
    "del HouseDS['Title']"
   ]
  },
  {
   "cell_type": "code",
   "execution_count": 7,
   "id": "75632dd9",
   "metadata": {
    "scrolled": true
   },
   "outputs": [
    {
     "data": {
      "text/html": [
       "<div>\n",
       "<style scoped>\n",
       "    .dataframe tbody tr th:only-of-type {\n",
       "        vertical-align: middle;\n",
       "    }\n",
       "\n",
       "    .dataframe tbody tr th {\n",
       "        vertical-align: top;\n",
       "    }\n",
       "\n",
       "    .dataframe thead th {\n",
       "        text-align: right;\n",
       "    }\n",
       "</style>\n",
       "<table border=\"1\" class=\"dataframe\">\n",
       "  <thead>\n",
       "    <tr style=\"text-align: right;\">\n",
       "      <th></th>\n",
       "      <th>Address</th>\n",
       "      <th>City</th>\n",
       "      <th>Price</th>\n",
       "      <th>Bedroom</th>\n",
       "      <th>Bathroom</th>\n",
       "      <th>Floors</th>\n",
       "      <th>Parking</th>\n",
       "      <th>Area</th>\n",
       "      <th>Road</th>\n",
       "      <th>Road Type</th>\n",
       "      <th>Amenities</th>\n",
       "      <th>road_width_meters</th>\n",
       "    </tr>\n",
       "  </thead>\n",
       "  <tbody>\n",
       "    <tr>\n",
       "      <th>0</th>\n",
       "      <td>209</td>\n",
       "      <td>17</td>\n",
       "      <td>90000000.0</td>\n",
       "      <td>6</td>\n",
       "      <td>3</td>\n",
       "      <td>2.0</td>\n",
       "      <td>10</td>\n",
       "      <td>1-0-0-0 Aana</td>\n",
       "      <td>20 Feet / Blacktopped</td>\n",
       "      <td>1</td>\n",
       "      <td>['Parking', 'Lawn', 'Garage', 'Frontyard', 'Fe...</td>\n",
       "      <td>6.0960</td>\n",
       "    </tr>\n",
       "    <tr>\n",
       "      <th>10</th>\n",
       "      <td>20</td>\n",
       "      <td>27</td>\n",
       "      <td>32000000.0</td>\n",
       "      <td>4</td>\n",
       "      <td>5</td>\n",
       "      <td>3.0</td>\n",
       "      <td>3</td>\n",
       "      <td>14 Aana</td>\n",
       "      <td>15 Feet / Blacktopped</td>\n",
       "      <td>1</td>\n",
       "      <td>['Parking', 'Backyard']</td>\n",
       "      <td>4.5720</td>\n",
       "    </tr>\n",
       "    <tr>\n",
       "      <th>20</th>\n",
       "      <td>1271</td>\n",
       "      <td>3</td>\n",
       "      <td>20500000.0</td>\n",
       "      <td>7</td>\n",
       "      <td>3</td>\n",
       "      <td>3.0</td>\n",
       "      <td>1</td>\n",
       "      <td>0-3-2-0 Aana</td>\n",
       "      <td>10 Feet / Gravelled</td>\n",
       "      <td>3</td>\n",
       "      <td>['Lawn', 'Balcony', 'Fencing', 'TV Cable', 'Wi...</td>\n",
       "      <td>3.0480</td>\n",
       "    </tr>\n",
       "    <tr>\n",
       "      <th>30</th>\n",
       "      <td>193</td>\n",
       "      <td>20</td>\n",
       "      <td>21000000.0</td>\n",
       "      <td>4</td>\n",
       "      <td>3</td>\n",
       "      <td>2.5</td>\n",
       "      <td>1</td>\n",
       "      <td>0-3-2-0 Aana</td>\n",
       "      <td>13 Feet / Gravelled</td>\n",
       "      <td>3</td>\n",
       "      <td>['Balcony', 'Fencing', 'Modular Kitchen', 'TV ...</td>\n",
       "      <td>3.9624</td>\n",
       "    </tr>\n",
       "    <tr>\n",
       "      <th>40</th>\n",
       "      <td>791</td>\n",
       "      <td>17</td>\n",
       "      <td>60000000.0</td>\n",
       "      <td>6</td>\n",
       "      <td>6</td>\n",
       "      <td>3.0</td>\n",
       "      <td>4</td>\n",
       "      <td>11 Aana</td>\n",
       "      <td>15 Feet / Soil Stabilized</td>\n",
       "      <td>5</td>\n",
       "      <td>['Parking']</td>\n",
       "      <td>4.5720</td>\n",
       "    </tr>\n",
       "    <tr>\n",
       "      <th>...</th>\n",
       "      <td>...</td>\n",
       "      <td>...</td>\n",
       "      <td>...</td>\n",
       "      <td>...</td>\n",
       "      <td>...</td>\n",
       "      <td>...</td>\n",
       "      <td>...</td>\n",
       "      <td>...</td>\n",
       "      <td>...</td>\n",
       "      <td>...</td>\n",
       "      <td>...</td>\n",
       "      <td>...</td>\n",
       "    </tr>\n",
       "    <tr>\n",
       "      <th>950</th>\n",
       "      <td>70</td>\n",
       "      <td>20</td>\n",
       "      <td>45000.0</td>\n",
       "      <td>3</td>\n",
       "      <td>3</td>\n",
       "      <td>3.0</td>\n",
       "      <td>1</td>\n",
       "      <td>0-2-2-0 Aana</td>\n",
       "      <td>16 Feet / Gravelled</td>\n",
       "      <td>3</td>\n",
       "      <td>['Garage', 'Fencing', 'Drainage', 'Water Suppl...</td>\n",
       "      <td>4.8768</td>\n",
       "    </tr>\n",
       "    <tr>\n",
       "      <th>960</th>\n",
       "      <td>626</td>\n",
       "      <td>17</td>\n",
       "      <td>12000000.0</td>\n",
       "      <td>1</td>\n",
       "      <td>1</td>\n",
       "      <td>1.0</td>\n",
       "      <td>1</td>\n",
       "      <td>0-2-2-3 Aana</td>\n",
       "      <td>10 Feet / Gravelled</td>\n",
       "      <td>3</td>\n",
       "      <td>['Garage', 'Fencing', 'Frontyard', 'Wifi', 'Wa...</td>\n",
       "      <td>3.0480</td>\n",
       "    </tr>\n",
       "    <tr>\n",
       "      <th>970</th>\n",
       "      <td>1511</td>\n",
       "      <td>17</td>\n",
       "      <td>17000000.0</td>\n",
       "      <td>0</td>\n",
       "      <td>0</td>\n",
       "      <td>3.0</td>\n",
       "      <td>0</td>\n",
       "      <td>0-3-0-0 Aana</td>\n",
       "      <td>10 Feet / Gravelled</td>\n",
       "      <td>3</td>\n",
       "      <td>[]</td>\n",
       "      <td>3.0480</td>\n",
       "    </tr>\n",
       "    <tr>\n",
       "      <th>980</th>\n",
       "      <td>1206</td>\n",
       "      <td>17</td>\n",
       "      <td>44000000.0</td>\n",
       "      <td>5</td>\n",
       "      <td>6</td>\n",
       "      <td>3.0</td>\n",
       "      <td>1</td>\n",
       "      <td>4 Aana</td>\n",
       "      <td>15 Feet / Blacktopped</td>\n",
       "      <td>1</td>\n",
       "      <td>['Water Tank', 'Water Supply', 'Solar Water', ...</td>\n",
       "      <td>4.5720</td>\n",
       "    </tr>\n",
       "    <tr>\n",
       "      <th>990</th>\n",
       "      <td>715</td>\n",
       "      <td>17</td>\n",
       "      <td>65000000.0</td>\n",
       "      <td>5</td>\n",
       "      <td>6</td>\n",
       "      <td>3.0</td>\n",
       "      <td>3</td>\n",
       "      <td>6.5 Aana</td>\n",
       "      <td>15 Feet / Blacktopped</td>\n",
       "      <td>1</td>\n",
       "      <td>['Frontyard', 'Garden', 'Microwave', 'Modular ...</td>\n",
       "      <td>4.5720</td>\n",
       "    </tr>\n",
       "  </tbody>\n",
       "</table>\n",
       "<p>100 rows × 12 columns</p>\n",
       "</div>"
      ],
      "text/plain": [
       "     Address  City       Price  Bedroom  Bathroom  Floors  Parking  \\\n",
       "0        209    17  90000000.0        6         3     2.0       10   \n",
       "10        20    27  32000000.0        4         5     3.0        3   \n",
       "20      1271     3  20500000.0        7         3     3.0        1   \n",
       "30       193    20  21000000.0        4         3     2.5        1   \n",
       "40       791    17  60000000.0        6         6     3.0        4   \n",
       "..       ...   ...         ...      ...       ...     ...      ...   \n",
       "950       70    20     45000.0        3         3     3.0        1   \n",
       "960      626    17  12000000.0        1         1     1.0        1   \n",
       "970     1511    17  17000000.0        0         0     3.0        0   \n",
       "980     1206    17  44000000.0        5         6     3.0        1   \n",
       "990      715    17  65000000.0        5         6     3.0        3   \n",
       "\n",
       "             Area                       Road  Road Type  \\\n",
       "0    1-0-0-0 Aana      20 Feet / Blacktopped          1   \n",
       "10        14 Aana      15 Feet / Blacktopped          1   \n",
       "20   0-3-2-0 Aana        10 Feet / Gravelled          3   \n",
       "30   0-3-2-0 Aana        13 Feet / Gravelled          3   \n",
       "40        11 Aana  15 Feet / Soil Stabilized          5   \n",
       "..            ...                        ...        ...   \n",
       "950  0-2-2-0 Aana        16 Feet / Gravelled          3   \n",
       "960  0-2-2-3 Aana        10 Feet / Gravelled          3   \n",
       "970  0-3-0-0 Aana        10 Feet / Gravelled          3   \n",
       "980        4 Aana      15 Feet / Blacktopped          1   \n",
       "990      6.5 Aana      15 Feet / Blacktopped          1   \n",
       "\n",
       "                                             Amenities  road_width_meters  \n",
       "0    ['Parking', 'Lawn', 'Garage', 'Frontyard', 'Fe...             6.0960  \n",
       "10                             ['Parking', 'Backyard']             4.5720  \n",
       "20   ['Lawn', 'Balcony', 'Fencing', 'TV Cable', 'Wi...             3.0480  \n",
       "30   ['Balcony', 'Fencing', 'Modular Kitchen', 'TV ...             3.9624  \n",
       "40                                         ['Parking']             4.5720  \n",
       "..                                                 ...                ...  \n",
       "950  ['Garage', 'Fencing', 'Drainage', 'Water Suppl...             4.8768  \n",
       "960  ['Garage', 'Fencing', 'Frontyard', 'Wifi', 'Wa...             3.0480  \n",
       "970                                                 []             3.0480  \n",
       "980  ['Water Tank', 'Water Supply', 'Solar Water', ...             4.5720  \n",
       "990  ['Frontyard', 'Garden', 'Microwave', 'Modular ...             4.5720  \n",
       "\n",
       "[100 rows x 12 columns]"
      ]
     },
     "execution_count": 7,
     "metadata": {},
     "output_type": "execute_result"
    }
   ],
   "source": [
    "#LabelEncoding to convert String value to Numeric value\n",
    "le = LabelEncoder()\n",
    "HouseDS['City'] = le.fit_transform(HouseDS['City'])\n",
    "HouseDS['Address'] = le.fit_transform(HouseDS['Address'])\n",
    "HouseDS['Road Type'] = le.fit_transform(HouseDS['Road Type'])\n",
    "HouseDS[0:1000:10]"
   ]
  },
  {
   "cell_type": "code",
   "execution_count": 8,
   "id": "09992d8e",
   "metadata": {},
   "outputs": [],
   "source": [
    "#Sorting value of price in Descending order,Higher Price appears first \n",
    "HouseDS=HouseDS.sort_values(by=['Price'],ascending=False)"
   ]
  },
  {
   "cell_type": "code",
   "execution_count": 9,
   "id": "e74e4116",
   "metadata": {},
   "outputs": [
    {
     "data": {
      "text/plain": [
       "<matplotlib.collections.PathCollection at 0x2201212bd90>"
      ]
     },
     "execution_count": 9,
     "metadata": {},
     "output_type": "execute_result"
    },
    {
     "data": {
      "image/png": "[encoded data removed]",
      "text/plain": [
       "<Figure size 640x480 with 1 Axes>"
      ]
     },
     "metadata": {},
     "output_type": "display_data"
    }
   ],
   "source": [
    "#Scatter plot with excluding top 20% price\n",
    "exclude_top=int(0.8*len(HouseDS.Price))\n",
    "plt.scatter(np.arange(0,len(HouseDS.Price[exclude_top:])),HouseDS.Price[exclude_top:])"
   ]
  },
  {
   "cell_type": "code",
   "execution_count": 10,
   "id": "d7c07b6a",
   "metadata": {},
   "outputs": [],
   "source": [
    "#splitting Data set into Training and testing sets\n",
    "X=HouseDS.drop(['Price','Area','Road','Amenities'],axis=1)\n",
    "y=HouseDS['Price']\n",
    "X_train,X_test,y_train,y_test=train_test_split(X,y,test_size=0.2,random_state=1)"
   ]
  },
  {
   "cell_type": "code",
   "execution_count": 11,
   "id": "4b3451d0",
   "metadata": {},
   "outputs": [
    {
     "data": {
      "text/plain": [
       "array([[<Axes: title={'center': 'Address'}>,\n",
       "        <Axes: title={'center': 'City'}>,\n",
       "        <Axes: title={'center': 'Bedroom'}>],\n",
       "       [<Axes: title={'center': 'Bathroom'}>,\n",
       "        <Axes: title={'center': 'Floors'}>,\n",
       "        <Axes: title={'center': 'Parking'}>],\n",
       "       [<Axes: title={'center': 'Road Type'}>,\n",
       "        <Axes: title={'center': 'road_width_meters'}>,\n",
       "        <Axes: title={'center': 'Price'}>]], dtype=object)"
      ]
     },
     "execution_count": 11,
     "metadata": {},
     "output_type": "execute_result"
    },
    {
     "data": {
      "image/png": "[encoded data removed]",
      "text/plain": [
       "<Figure size 1500x800 with 9 Axes>"
      ]
     },
     "metadata": {},
     "output_type": "display_data"
    }
   ],
   "source": [
    "train_data=X_train.join(y_train)\n",
    "train_data.hist(figsize=(15,8))"
   ]
  },
  {
   "cell_type": "code",
   "execution_count": 12,
   "id": "385b6775",
   "metadata": {},
   "outputs": [],
   "source": [
    "#plt.figure(figsize=(15,8))\n",
    "#sns.heatmap(train_data.corr(),annot=True,cmap=\"YlGrBu\")\n",
    "#train_data.corr()"
   ]
  },
  {
   "cell_type": "code",
   "execution_count": 13,
   "id": "2ac48241",
   "metadata": {},
   "outputs": [
    {
     "name": "stdout",
     "output_type": "stream",
     "text": [
      "(1768, 8) (443, 8) (1768,) (443,)\n"
     ]
    }
   ],
   "source": [
    "print(X_train.shape,X_test.shape,y_train.shape,y_test.shape)"
   ]
  },
  {
   "cell_type": "code",
   "execution_count": 14,
   "id": "07dbc90f",
   "metadata": {},
   "outputs": [],
   "source": [
    "#feature scaling(to normalize feature variables)\n",
    "#np.random.seed(42)with_mean=False\n",
    "scaler = StandardScaler()\n",
    "#X_train,X_test,y_train,y_test=train_test_split(transformed_X,y,test_size=0.2,random_state=1)\n",
    "X_train_scale=scaler.fit_transform(X_train)\n",
    "X_test_scale=scaler.transform(X_test)"
   ]
  },
  {
   "cell_type": "code",
   "execution_count": 15,
   "id": "82e7ebb1",
   "metadata": {},
   "outputs": [],
   "source": [
    "svm_model=SVR(kernel='linear')"
   ]
  },
  {
   "cell_type": "code",
   "execution_count": 16,
   "id": "913aca31",
   "metadata": {},
   "outputs": [
    {
     "data": {
      "text/html": [
       "<style>#sk-container-id-1 {color: black;background-color: white;}#sk-container-id-1 pre{padding: 0;}#sk-container-id-1 div.sk-toggleable {background-color: white;}#sk-container-id-1 label.sk-toggleable__label {cursor: pointer;display: block;width: 100%;margin-bottom: 0;padding: 0.3em;box-sizing: border-box;text-align: center;}#sk-container-id-1 label.sk-toggleable__label-arrow:before {content: \"▸\";float: left;margin-right: 0.25em;color: #696969;}#sk-container-id-1 label.sk-toggleable__label-arrow:hover:before {color: black;}#sk-container-id-1 div.sk-estimator:hover label.sk-toggleable__label-arrow:before {color: black;}#sk-container-id-1 div.sk-toggleable__content {max-height: 0;max-width: 0;overflow: hidden;text-align: left;background-color: #f0f8ff;}#sk-container-id-1 div.sk-toggleable__content pre {margin: 0.2em;color: black;border-radius: 0.25em;background-color: #f0f8ff;}#sk-container-id-1 input.sk-toggleable__control:checked~div.sk-toggleable__content {max-height: 200px;max-width: 100%;overflow: auto;}#sk-container-id-1 input.sk-toggleable__control:checked~label.sk-toggleable__label-arrow:before {content: \"▾\";}#sk-container-id-1 div.sk-estimator input.sk-toggleable__control:checked~label.sk-toggleable__label {background-color: #d4ebff;}#sk-container-id-1 div.sk-label input.sk-toggleable__control:checked~label.sk-toggleable__label {background-color: #d4ebff;}#sk-container-id-1 input.sk-hidden--visually {border: 0;clip: rect(1px 1px 1px 1px);clip: rect(1px, 1px, 1px, 1px);height: 1px;margin: -1px;overflow: hidden;padding: 0;position: absolute;width: 1px;}#sk-container-id-1 div.sk-estimator {font-family: monospace;background-color: #f0f8ff;border: 1px dotted black;border-radius: 0.25em;box-sizing: border-box;margin-bottom: 0.5em;}#sk-container-id-1 div.sk-estimator:hover {background-color: #d4ebff;}#sk-container-id-1 div.sk-parallel-item::after {content: \"\";width: 100%;border-bottom: 1px solid gray;flex-grow: 1;}#sk-container-id-1 div.sk-label:hover label.sk-toggleable__label {background-color: #d4ebff;}#sk-container-id-1 div.sk-serial::before {content: \"\";position: absolute;border-left: 1px solid gray;box-sizing: border-box;top: 0;bottom: 0;left: 50%;z-index: 0;}#sk-container-id-1 div.sk-serial {display: flex;flex-direction: column;align-items: center;background-color: white;padding-right: 0.2em;padding-left: 0.2em;position: relative;}#sk-container-id-1 div.sk-item {position: relative;z-index: 1;}#sk-container-id-1 div.sk-parallel {display: flex;align-items: stretch;justify-content: center;background-color: white;position: relative;}#sk-container-id-1 div.sk-item::before, #sk-container-id-1 div.sk-parallel-item::before {content: \"\";position: absolute;border-left: 1px solid gray;box-sizing: border-box;top: 0;bottom: 0;left: 50%;z-index: -1;}#sk-container-id-1 div.sk-parallel-item {display: flex;flex-direction: column;z-index: 1;position: relative;background-color: white;}#sk-container-id-1 div.sk-parallel-item:first-child::after {align-self: flex-end;width: 50%;}#sk-container-id-1 div.sk-parallel-item:last-child::after {align-self: flex-start;width: 50%;}#sk-container-id-1 div.sk-parallel-item:only-child::after {width: 0;}#sk-container-id-1 div.sk-dashed-wrapped {border: 1px dashed gray;margin: 0 0.4em 0.5em 0.4em;box-sizing: border-box;padding-bottom: 0.4em;background-color: white;}#sk-container-id-1 div.sk-label label {font-family: monospace;font-weight: bold;display: inline-block;line-height: 1.2em;}#sk-container-id-1 div.sk-label-container {text-align: center;}#sk-container-id-1 div.sk-container {/* jupyter's `normalize.less` sets `[hidden] { display: none; }` but bootstrap.min.css set `[hidden] { display: none !important; }` so we also need the `!important` here to be able to override the default hidden behavior on the sphinx rendered scikit-learn.org. See: https://github.com/scikit-learn/scikit-learn/issues/21755 */display: inline-block !important;position: relative;}#sk-container-id-1 div.sk-text-repr-fallback {display: none;}</style><div id=\"sk-container-id-1\" class=\"sk-top-container\"><div class=\"sk-text-repr-fallback\"><pre>SVR(kernel=&#x27;linear&#x27;)</pre><b>In a Jupyter environment, please rerun this cell to show the HTML representation or trust the notebook. <br />On GitHub, the HTML representation is unable to render, please try loading this page with nbviewer.org.</b></div><div class=\"sk-container\" hidden><div class=\"sk-item\"><div class=\"sk-estimator sk-toggleable\"><input class=\"sk-toggleable__control sk-hidden--visually\" id=\"sk-estimator-id-1\" type=\"checkbox\" checked><label for=\"sk-estimator-id-1\" class=\"sk-toggleable__label sk-toggleable__label-arrow\">SVR</label><div class=\"sk-toggleable__content\"><pre>SVR(kernel=&#x27;linear&#x27;)</pre></div></div></div></div></div>"
      ],
      "text/plain": [
       "SVR(kernel='linear')"
      ]
     },
     "execution_count": 16,
     "metadata": {},
     "output_type": "execute_result"
    }
   ],
   "source": [
    "#Training the model\n",
    "svm_model.fit(X_train_scale,y_train)"
   ]
  },
  {
   "cell_type": "code",
   "execution_count": 17,
   "id": "6266075d",
   "metadata": {},
   "outputs": [],
   "source": [
    "#Making predictions on test set\n",
    "\n",
    "pred=svm_model.predict(X_test_scale)"
   ]
  },
  {
   "cell_type": "code",
   "execution_count": 18,
   "id": "4d143456",
   "metadata": {},
   "outputs": [],
   "source": [
    "#Evaluating the model\n",
    "from sklearn.metrics import mean_squared_error,r2_score\n",
    "mse=mean_squared_error(y_test,pred)\n",
    "rmse = np.sqrt(mse)\n",
    "r2 = r2_score(y_test, pred)"
   ]
  },
  {
   "cell_type": "code",
   "execution_count": 19,
   "id": "bc06465d",
   "metadata": {
    "scrolled": true
   },
   "outputs": [
    {
     "name": "stdout",
     "output_type": "stream",
     "text": [
      "Mean Squared Error (MSE): 5.18826927644146e+25\n",
      "Root Mean Squared Error (RMSE): 7202964165148.581\n",
      "R-squared (R2): -0.004275250565578315\n"
     ]
    }
   ],
   "source": [
    "print(\"Mean Squared Error (MSE):\", mse)\n",
    "print(\"Root Mean Squared Error (RMSE):\", rmse)\n",
    "print(\"R-squared (R2):\", r2)"
   ]
  },
  {
   "cell_type": "code",
   "execution_count": null,
   "id": "eaaa1904",
   "metadata": {},
   "outputs": [],
   "source": [
    "#data->(Bedroom,Bathroom,Floors,ParkingSpace,Views(Visually Attractive),City,Address)\n",
    "def House_requirement():\n",
    "    No_of_Bedroom=int(input(\"Enter Number of bedrooms: \"))\n",
    "    No_of_Bathroom=int(input(\"Enter Number of bathrooms: \"))\n",
    "    No_of_Floors=float(input(\"Enter Number of floors: \"))\n",
    "    No_of_Parking=int(input(\"Enter Number of Parking Space: \"))\n",
    "    #Address=input(\"Enter the address of house: \")\n",
    "    #City=input(\"Enter the City of house located: \")\n",
    "    new_house=[[No_of_Bedroom,No_of_Bathroom,No_of_Floors,No_of_Parking,No_of_views]]\n",
    "    new_house_scale=scaler.transform(new_house)\n",
    "    pred_price=svm_model.predict(new_house_scale)\n",
    "    print(\"Your Predicted Price is \",pred_price)\n",
    "House_requirement()"
   ]
  }
 ],
 "metadata": {
  "kernelspec": {
   "display_name": "Python 3 (ipykernel)",
   "language": "python",
   "name": "python3"
  },
  "language_info": {
   "codemirror_mode": {
    "name": "ipython",
    "version": 3
   },
   "file_extension": ".py",
   "mimetype": "text/x-python",
   "name": "python",
   "nbconvert_exporter": "python",
   "pygments_lexer": "ipython3",
   "version": "3.10.11"
  }
 },
 "nbformat": 4,
 "nbformat_minor": 5
}
